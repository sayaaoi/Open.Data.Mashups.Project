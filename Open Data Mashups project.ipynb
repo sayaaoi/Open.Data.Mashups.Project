{
 "cells": [
  {
   "cell_type": "markdown",
   "metadata": {
    "toc": true
   },
   "source": [
    "<h1>Table of Contents<span class=\"tocSkip\"></span></h1>\n",
    "<div class=\"toc\"><ul class=\"toc-item\"><li><span><a href=\"#Topic-of-interest\" data-toc-modified-id=\"Topic-of-interest-1\"><span class=\"toc-item-num\">1&nbsp;&nbsp;</span>Topic of interest</a></span></li><li><span><a href=\"#Problems-within-topic\" data-toc-modified-id=\"Problems-within-topic-2\"><span class=\"toc-item-num\">2&nbsp;&nbsp;</span>Problems within topic</a></span><ul class=\"toc-item\"><li><span><a href=\"#Definition-of-&quot;conservative&quot;\" data-toc-modified-id=\"Definition-of-&quot;conservative&quot;-2.1\"><span class=\"toc-item-num\">2.1&nbsp;&nbsp;</span>Definition of \"conservative\"</a></span></li><li><span><a href=\"#Find-dataset-with-geographic-information\" data-toc-modified-id=\"Find-dataset-with-geographic-information-2.2\"><span class=\"toc-item-num\">2.2&nbsp;&nbsp;</span>Find dataset with geographic information</a></span></li><li><span><a href=\"#Interested-people-don't-even-watch-the-movie/no-review\" data-toc-modified-id=\"Interested-people-don't-even-watch-the-movie/no-review-2.3\"><span class=\"toc-item-num\">2.3&nbsp;&nbsp;</span>Interested people don't even watch the movie/no review</a></span></li><li><span><a href=\"#Does-negative-review-only-because-of-LGBT/feminism?\" data-toc-modified-id=\"Does-negative-review-only-because-of-LGBT/feminism?-2.4\"><span class=\"toc-item-num\">2.4&nbsp;&nbsp;</span>Does negative review only because of LGBT/feminism?</a></span></li></ul></li></ul></div>"
   ]
  },
  {
   "cell_type": "markdown",
   "metadata": {},
   "source": [
    "# Topic of interest\n",
    "Are people from conservative states or people who claim to be conservatives usually give negative reviews for LGBT/Feminism movies?\n",
    "\n",
    "I'm interested in the relationship between people's political views and their cultural preferences. I would like to know if \"conservative\" people usually give negative reviews for LGBT/feminism movies. \n",
    "\n",
    "The definition of conservative is important in my project. I'm thinking about defining political conservatives as either people from conservative states based on presidential election result or people who in some way self-claimed to be political conservatives. There will be two ways of getting data then, and the results are very likely different. I will most likely go with the first way of definition but the second one might also be interesting to think about. "
   ]
  },
  {
   "cell_type": "markdown",
   "metadata": {},
   "source": [
    "# Problems within topic\n",
    "## Definition of \"conservative\"\n",
    "- use different measurements to see different results\n",
    "- presidential election result changes every four year \n",
    "\n",
    "## Find dataset with geographic information\n",
    "- reviewer's location\n",
    "\n",
    "## Interested people don't even watch the movie/no review\n",
    "- people who are not interested in such movies may not watch it in the first place and won't write a review\n",
    "\n",
    "## Does negative review only because of LGBT/feminism?\n",
    "- some people who give negative reviews may only because it is a bad movie not because the content is \"LGBT/feminism\" related.  "
   ]
  },
  {
   "cell_type": "code",
   "execution_count": null,
   "metadata": {},
   "outputs": [],
   "source": []
  }
 ],
 "metadata": {
  "kernelspec": {
   "display_name": "Python 3",
   "language": "python",
   "name": "python3"
  },
  "language_info": {
   "codemirror_mode": {
    "name": "ipython",
    "version": 3
   },
   "file_extension": ".py",
   "mimetype": "text/x-python",
   "name": "python",
   "nbconvert_exporter": "python",
   "pygments_lexer": "ipython3",
   "version": "3.6.6"
  },
  "toc": {
   "base_numbering": 1,
   "nav_menu": {},
   "number_sections": true,
   "sideBar": true,
   "skip_h1_title": false,
   "title_cell": "Table of Contents",
   "title_sidebar": "Contents",
   "toc_cell": true,
   "toc_position": {},
   "toc_section_display": true,
   "toc_window_display": false
  }
 },
 "nbformat": 4,
 "nbformat_minor": 2
}
