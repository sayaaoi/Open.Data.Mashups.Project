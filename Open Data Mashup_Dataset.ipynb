{
 "cells": [
  {
   "cell_type": "markdown",
   "metadata": {
    "toc": true
   },
   "source": [
    "<h1>Table of Contents<span class=\"tocSkip\"></span></h1>\n",
    "<div class=\"toc\"><ul class=\"toc-item\"></ul></div>"
   ]
  },
  {
   "cell_type": "markdown",
   "metadata": {},
   "source": [
    "__STEP1__: <br>\n",
    "LGBT Movie collection: source1: https://en.wikipedia.org/wiki/List_of_LGBT-related_films <br>\n",
    "                       source2: Netflix webscraping\n",
    "Feminism movie collection: ??\n",
    "\n",
    "__STEP2__:<br>\n",
    "(User location, movie review) on Twitter: web scraping <br>\n",
    "(User location, movie review) on Facebook: web scraping\n",
    "\n",
    "__STEP3__:<br>\n",
    "Presidential election data to determine conservative or liberal states.\n",
    "\n",
    "__STEP4__:<br>\n",
    "Ratings on LBGT/Feminism movie in general: Rotten Tomatto/IMDB (used to set a baseline)\n",
    "\n",
    "\n",
    "<br>\n",
    "备选：Tumblr, Match.com, reddit"
   ]
  },
  {
   "cell_type": "code",
   "execution_count": null,
   "metadata": {},
   "outputs": [],
   "source": []
  }
 ],
 "metadata": {
  "kernelspec": {
   "display_name": "Python 3",
   "language": "python",
   "name": "python3"
  },
  "language_info": {
   "codemirror_mode": {
    "name": "ipython",
    "version": 3
   },
   "file_extension": ".py",
   "mimetype": "text/x-python",
   "name": "python",
   "nbconvert_exporter": "python",
   "pygments_lexer": "ipython3",
   "version": "3.6.2"
  },
  "toc": {
   "base_numbering": 1,
   "nav_menu": {},
   "number_sections": true,
   "sideBar": true,
   "skip_h1_title": false,
   "title_cell": "Table of Contents",
   "title_sidebar": "Contents",
   "toc_cell": true,
   "toc_position": {},
   "toc_section_display": true,
   "toc_window_display": false
  }
 },
 "nbformat": 4,
 "nbformat_minor": 2
}
