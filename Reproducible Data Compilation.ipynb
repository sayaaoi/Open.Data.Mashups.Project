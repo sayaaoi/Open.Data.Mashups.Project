{
 "cells": [
  {
   "cell_type": "markdown",
   "metadata": {
    "toc": true
   },
   "source": [
    "<h1>Table of Contents<span class=\"tocSkip\"></span></h1>\n",
    "<div class=\"toc\"><ul class=\"toc-item\"><li><span><a href=\"#Presidential-Election-Data\" data-toc-modified-id=\"Presidential-Election-Data-1\"><span class=\"toc-item-num\">1&nbsp;&nbsp;</span>Presidential Election Data</a></span><ul class=\"toc-item\"><li><span><a href=\"#Online-dataset\" data-toc-modified-id=\"Online-dataset-1.1\"><span class=\"toc-item-num\">1.1&nbsp;&nbsp;</span>Online dataset</a></span></li><li><span><a href=\"#Web-Scraping\" data-toc-modified-id=\"Web-Scraping-1.2\"><span class=\"toc-item-num\">1.2&nbsp;&nbsp;</span>Web Scraping</a></span></li></ul></li><li><span><a href=\"#Movie-list\" data-toc-modified-id=\"Movie-list-2\"><span class=\"toc-item-num\">2&nbsp;&nbsp;</span>Movie list</a></span><ul class=\"toc-item\"><li><span><a href=\"#Web-Scraping\" data-toc-modified-id=\"Web-Scraping-2.1\"><span class=\"toc-item-num\">2.1&nbsp;&nbsp;</span>Web Scraping</a></span></li><li><span><a href=\"#Online-dataset\" data-toc-modified-id=\"Online-dataset-2.2\"><span class=\"toc-item-num\">2.2&nbsp;&nbsp;</span>Online dataset</a></span></li><li><span><a href=\"#Online-repository\" data-toc-modified-id=\"Online-repository-2.3\"><span class=\"toc-item-num\">2.3&nbsp;&nbsp;</span>Online repository</a></span></li><li><span><a href=\"#Final-movie-list\" data-toc-modified-id=\"Final-movie-list-2.4\"><span class=\"toc-item-num\">2.4&nbsp;&nbsp;</span>Final movie list</a></span></li></ul></li><li><span><a href=\"#Average-Movie-ratings\" data-toc-modified-id=\"Average-Movie-ratings-3\"><span class=\"toc-item-num\">3&nbsp;&nbsp;</span>Average Movie ratings</a></span></li><li><span><a href=\"#Tweets\" data-toc-modified-id=\"Tweets-4\"><span class=\"toc-item-num\">4&nbsp;&nbsp;</span>Tweets</a></span><ul class=\"toc-item\"><li><span><a href=\"#Frequency-of-tweets-by-state\" data-toc-modified-id=\"Frequency-of-tweets-by-state-4.1\"><span class=\"toc-item-num\">4.1&nbsp;&nbsp;</span>Frequency of tweets by state</a></span></li><li><span><a href=\"#Sentimental-analysis-of-tweets-by-state\" data-toc-modified-id=\"Sentimental-analysis-of-tweets-by-state-4.2\"><span class=\"toc-item-num\">4.2&nbsp;&nbsp;</span>Sentimental analysis of tweets by state</a></span></li></ul></li></ul></div>"
   ]
  },
  {
   "cell_type": "markdown",
   "metadata": {},
   "source": [
    "<div style=\"text-align:center; font-size:25px; color:#A12A0B\"><strong>Popularity of LGBT/Feminist movies by state in US</strong></div> <br>\n",
    "<div style='text-align:center; font-size:20px'><b>Yuejun Wu</b></div>\n",
    "<div style='text-align:center; font-size:20px'>Open Data Mashups</div>\n",
    "<div style=\"text-align:center; font-size:15px\"><em>FALL2018</em></div>"
   ]
  },
  {
   "cell_type": "code",
   "execution_count": 1,
   "metadata": {},
   "outputs": [],
   "source": [
    "# import all necessary packages\n",
    "import tweepy\n",
    "import pandas as pd\n",
    "import requests as req\n",
    "from bs4 import BeautifulSoup\n",
    "from requests import get\n",
    "from requests.exceptions import RequestException\n",
    "from contextlib import closing\n",
    "from tqdm import tqdm_notebook\n",
    "import csv\n",
    "import time\n",
    "from textblob import TextBlob"
   ]
  },
  {
   "cell_type": "markdown",
   "metadata": {},
   "source": [
    "## Presidential Election Data\n",
    "There will be 6 election data from 1996 to 2016 (presidential election is held every 4 years). Data from 2000 to 2016 are in standard format online while data of 1996 needs to perform web scraping. \n",
    "\n",
    "- **Data set**: Presidential election data from 1996 to 2016. <br>\n",
    "- **Goal**: Identify conservative, liberal and swing states. For example, if a state voted for Republic Party more than 3 times during 1996 to 2016, it will be labeled as \"Conservative.\" Since there are 6 election years' data, a state voted for one Party 3 times will be labeled as \"Swing.\"<br>\n",
    "- **Output**: 2 columns and 52 rows representing states and their corresponding political tendencies. <br><br>\n",
    "- **Data Source:** \n",
    "    1. Existing csv/xls/xlw files online\n",
    "    2. Web Scraping 1996 election data online"
   ]
  },
  {
   "cell_type": "markdown",
   "metadata": {},
   "source": [
    "### Online dataset\n",
    "\n",
    "Standard format files are downloaded; Read files into dataframe and identify each state's voting result. <br><br>\n",
    "Online source: https://transition.fec.gov/pubrec/electionresults.shtml <br>\n",
    "It contains data of 2000, 2004, 2008, 2012, 2016."
   ]
  },
  {
   "cell_type": "markdown",
   "metadata": {},
   "source": [
    "### Web Scraping\n",
    "\n",
    "Web scraping source: https://transition.fec.gov/pubrec/fe1996/elecpop.htm <br>\n",
    "It contains data from 1996."
   ]
  },
  {
   "cell_type": "code",
   "execution_count": 2,
   "metadata": {},
   "outputs": [],
   "source": [
    "# Parse htm file into text content with exception handler\n",
    "def simple_get(url):\n",
    "    \"\"\"\n",
    "    Attempts to get the content at 'url' by making an HTTP GET request.\n",
    "    If the content-type of response is some kind of HTML/XML, return the\n",
    "    text content, otherwise return None.\n",
    "    \"\"\"\n",
    "    try:\n",
    "        with closing(get(url, stream=True)) as resp:\n",
    "            if is_good_response(resp):\n",
    "                # r.text is the content of the response in unicode, \n",
    "                # and r.content is the content of the response in bytes.\n",
    "                return resp.content\n",
    "            else:\n",
    "                return None\n",
    "            \n",
    "    except RequestException as e:\n",
    "        log_error('Error during requests to {0}:{1}'.format(url, str(e)))\n",
    "        return None"
   ]
  },
  {
   "cell_type": "code",
   "execution_count": 3,
   "metadata": {},
   "outputs": [],
   "source": [
    "# Identify whether the source is in HTML/HTM format or not\n",
    "def is_good_response(resp):\n",
    "    \"\"\"\n",
    "    Return True if the response seems to be HTML/HTM, Flase otherwise.\n",
    "    \"\"\"\n",
    "    content_type = resp.headers['Content-Type']\n",
    "    return (resp.status_code == 200 \n",
    "            and content_type is not None\n",
    "            and content_type.find('html') > -1)"
   ]
  },
  {
   "cell_type": "code",
   "execution_count": 4,
   "metadata": {},
   "outputs": [],
   "source": [
    "# Print error message\n",
    "def log_error(e):\n",
    "    \"\"\"\n",
    "    Print log errors.\n",
    "    \"\"\"\n",
    "    print(e)"
   ]
  },
  {
   "cell_type": "code",
   "execution_count": 5,
   "metadata": {},
   "outputs": [],
   "source": [
    "# Load 1996 presidential ELECTORAL AND POPULAR VOTE \n",
    "url = 'https://transition.fec.gov/pubrec/fe1996/elecpop.htm'\n",
    "response = simple_get(url)\n",
    "if response is not None:\n",
    "    htm = BeautifulSoup(response, 'html.parser')\n",
    "    # cast to string\n",
    "    para = str(htm.find_all('pre'))\n",
    "    temp_content = para[para.find('>AL'):]\n",
    "    table_content = temp_content[1:temp_content.find('<st')]"
   ]
  },
  {
   "cell_type": "code",
   "execution_count": 6,
   "metadata": {},
   "outputs": [],
   "source": [
    "# Extract content of election result into a list. Elements in the list represent rows in the raw data \n",
    "table_content_li = [x for x in table_content.split('\\r\\n')]"
   ]
  },
  {
   "cell_type": "code",
   "execution_count": 7,
   "metadata": {},
   "outputs": [],
   "source": [
    "# Convert to nested list for better processing\n",
    "# Fill empty space with 'n' indicating 'not voted' for candidates from a specific state\n",
    "content = []\n",
    "for row in table_content_li[:-1]:\n",
    "    a = row.split('        ')\n",
    "    if a[1] == '':\n",
    "        a[1] = 'n'\n",
    "    if a[2] == '':\n",
    "        a[2] = 'n'\n",
    "    content.append(a)"
   ]
  },
  {
   "cell_type": "code",
   "execution_count": 8,
   "metadata": {},
   "outputs": [
    {
     "data": {
      "text/plain": [
       "['DC', '3', 'n', '     158,220       17,339', '3,611', '      185,726 ']"
      ]
     },
     "execution_count": 8,
     "metadata": {},
     "output_type": "execute_result"
    }
   ],
   "source": [
    "# Find exception: one list has different length from the rest due to preprocessing\n",
    "content[8]"
   ]
  },
  {
   "cell_type": "code",
   "execution_count": 9,
   "metadata": {},
   "outputs": [],
   "source": [
    "# Exception handling\n",
    "update = content[8][3] + ' ' + content[8][4]\n",
    "content[8][3] = update"
   ]
  },
  {
   "cell_type": "code",
   "execution_count": 10,
   "metadata": {},
   "outputs": [
    {
     "data": {
      "text/plain": [
       "['DC', '3', 'n', '     158,220       17,339 3,611', '      185,726 ']"
      ]
     },
     "execution_count": 10,
     "metadata": {},
     "output_type": "execute_result"
    }
   ],
   "source": [
    "# Check whether the new list meets the requirement\n",
    "temp_row = content[8]\n",
    "del temp_row[4]\n",
    "temp_row"
   ]
  },
  {
   "cell_type": "code",
   "execution_count": 11,
   "metadata": {},
   "outputs": [],
   "source": [
    "# replace exception with updated list\n",
    "content[8] = temp_row"
   ]
  },
  {
   "cell_type": "code",
   "execution_count": 12,
   "metadata": {},
   "outputs": [],
   "source": [
    "# convert list to numpy array then to dataframe\n",
    "df96 = pd.DataFrame(content)"
   ]
  },
  {
   "cell_type": "code",
   "execution_count": 13,
   "metadata": {},
   "outputs": [],
   "source": [
    "# Add column names for dataframe\n",
    "df96.columns = ['State', 'Clinton','Dole','Popular vote','Total Popular vote']"
   ]
  },
  {
   "cell_type": "code",
   "execution_count": 14,
   "metadata": {},
   "outputs": [
    {
     "data": {
      "text/html": [
       "<div>\n",
       "<style scoped>\n",
       "    .dataframe tbody tr th:only-of-type {\n",
       "        vertical-align: middle;\n",
       "    }\n",
       "\n",
       "    .dataframe tbody tr th {\n",
       "        vertical-align: top;\n",
       "    }\n",
       "\n",
       "    .dataframe thead th {\n",
       "        text-align: right;\n",
       "    }\n",
       "</style>\n",
       "<table border=\"1\" class=\"dataframe\">\n",
       "  <thead>\n",
       "    <tr style=\"text-align: right;\">\n",
       "      <th></th>\n",
       "      <th>State</th>\n",
       "      <th>Clinton</th>\n",
       "      <th>Dole</th>\n",
       "      <th>Popular vote</th>\n",
       "      <th>Total Popular vote</th>\n",
       "    </tr>\n",
       "  </thead>\n",
       "  <tbody>\n",
       "    <tr>\n",
       "      <th>0</th>\n",
       "      <td>AL</td>\n",
       "      <td>n</td>\n",
       "      <td>9</td>\n",
       "      <td>662,165      769,044       92,149</td>\n",
       "      <td>1,534,349</td>\n",
       "    </tr>\n",
       "    <tr>\n",
       "      <th>1</th>\n",
       "      <td>AK</td>\n",
       "      <td>n</td>\n",
       "      <td>3</td>\n",
       "      <td>80,380      122,746       26,333</td>\n",
       "      <td>241,620</td>\n",
       "    </tr>\n",
       "    <tr>\n",
       "      <th>2</th>\n",
       "      <td>AZ</td>\n",
       "      <td>8</td>\n",
       "      <td>n</td>\n",
       "      <td>653,288      622,073      112,072</td>\n",
       "      <td>1,404,405</td>\n",
       "    </tr>\n",
       "    <tr>\n",
       "      <th>3</th>\n",
       "      <td>AR</td>\n",
       "      <td>6</td>\n",
       "      <td>n</td>\n",
       "      <td>475,171      325,416       69,884</td>\n",
       "      <td>884,262</td>\n",
       "    </tr>\n",
       "    <tr>\n",
       "      <th>4</th>\n",
       "      <td>CA</td>\n",
       "      <td>54</td>\n",
       "      <td>n</td>\n",
       "      <td>5,119,835    3,828,380      697,847</td>\n",
       "      <td>10,019,484</td>\n",
       "    </tr>\n",
       "  </tbody>\n",
       "</table>\n",
       "</div>"
      ],
      "text/plain": [
       "  State Clinton  Dole                            Popular vote  \\\n",
       "0    AL       n     9       662,165      769,044       92,149   \n",
       "1    AK       n     3        80,380      122,746       26,333   \n",
       "2    AZ       8     n       653,288      622,073      112,072   \n",
       "3    AR       6     n       475,171      325,416       69,884   \n",
       "4    CA      54     n     5,119,835    3,828,380      697,847   \n",
       "\n",
       "  Total Popular vote  \n",
       "0         1,534,349   \n",
       "1           241,620   \n",
       "2         1,404,405   \n",
       "3           884,262   \n",
       "4        10,019,484   "
      ]
     },
     "execution_count": 14,
     "metadata": {},
     "output_type": "execute_result"
    }
   ],
   "source": [
    "df96.head(5)"
   ]
  },
  {
   "cell_type": "code",
   "execution_count": 15,
   "metadata": {},
   "outputs": [],
   "source": [
    "# Write out election data of 1996\n",
    "# df96.to_csv('election96.csv')"
   ]
  },
  {
   "cell_type": "markdown",
   "metadata": {},
   "source": [
    "The output for election datasets from 1996 - 2016 is combined using Excel, which is included in Intermediate datasets folder. <b>\"presElection.csv\"</b> is used to create heatmap in Tableau."
   ]
  },
  {
   "cell_type": "markdown",
   "metadata": {},
   "source": [
    "## Movie list\n",
    "There are three sources to get a comprehensive movie list with LGBT and Feminism themes as shown below. Each source is handled differently based on format. Overlapping exists among movie lists from three sources as data sources are independent from each other. A final list of related movie names will be generated from them.\n",
    "\n",
    "**Data Source:**<br>\n",
    "1. Web scraping from webpages:\n",
    "    * https://en.wikipedia.org/wiki/List_of_LGBT-related_films\n",
    "    * https://en.wikipedia.org/wiki/Category:Feminist_films\n",
    "2. Online dataset:\n",
    "    * https://www.kaggle.com/juzershakir/tmdb-moviesdataset/home\n",
    "3. Online repository\n",
    "    * http://files.grouplens.org/datasets/movielens/ml-20m-README.html"
   ]
  },
  {
   "cell_type": "markdown",
   "metadata": {},
   "source": [
    "### Web Scraping\n",
    "\n",
    "Wikipedia has lists of LGBT/Feminism topic movies. Since LGBT and Feminism are more of movie topic rather than movie genres like Action, Adventure, Drama, Musical, etc. Movie names on Wikipedia might not be sufficient. That's why further processing on other online dataset is performed."
   ]
  },
  {
   "cell_type": "code",
   "execution_count": 16,
   "metadata": {},
   "outputs": [
    {
     "name": "stdout",
     "output_type": "stream",
     "text": [
      "2563\n"
     ]
    }
   ],
   "source": [
    "# LGBT related movie\n",
    "origin_page = req.get(\"https://en.wikipedia.org/wiki/List_of_LGBT-related_films\")\n",
    "\n",
    "soup = BeautifulSoup(origin_page.text, \"html.parser\")\n",
    "\n",
    "movie_name1 = ''\n",
    "for element in soup.find_all('a'):\n",
    "    if element.get('title') is not None:\n",
    "        movie_name1 += (str(element.string) + \"***\")\n",
    "\n",
    "# Get movie names part only\n",
    "chunks = movie_name1.split('edit***')\n",
    "for chunk in chunks:\n",
    "    if chunk.startswith('Z'):\n",
    "        z_index = chunks.index(chunk)\n",
    "    if chunk.startswith('$'):\n",
    "        a_index = chunks.index(chunk)\n",
    "\n",
    "movie_list1 = chunks[a_index : z_index+1]\n",
    "\n",
    "# convert each movie into an element of a list\n",
    "movie_names1 = []\n",
    "for movie_chunk in movie_list1:\n",
    "    movie_temp = movie_chunk.split('***')\n",
    "    movie = movie_temp[:-1]\n",
    "    movie_names1.extend(movie)\n",
    "    \n",
    "# a list of all lgbt movie names from Wiki page\n",
    "print(len(movie_names1))"
   ]
  },
  {
   "cell_type": "code",
   "execution_count": 17,
   "metadata": {},
   "outputs": [],
   "source": [
    "# write out lgbt movie list to csv file\n",
    "# lgbt = pd.DataFrame(movie_names1, columns=[\"lgbt_movie\"])\n",
    "# lgbt.to_csv('lgbt.csv', index=False)"
   ]
  },
  {
   "cell_type": "code",
   "execution_count": 18,
   "metadata": {},
   "outputs": [
    {
     "name": "stdout",
     "output_type": "stream",
     "text": [
      "200\n"
     ]
    }
   ],
   "source": [
    "# Feminism related movies\n",
    "origin_page = req.get(\"https://en.wikipedia.org/wiki/Category:Feminist_films\")\n",
    "\n",
    "soup = BeautifulSoup(origin_page.text, \"html.parser\")\n",
    "\n",
    "movie_name2 = ''\n",
    "for element in soup.find_all('a'):\n",
    "    if element.get('title') is not None:\n",
    "        movie_name2 += (str(element.string) + \"***\")\n",
    "\n",
    "# Get movie names part only\n",
    "chunks = movie_name2.split('***')\n",
    "for chunk in chunks:\n",
    "#     print(chunk)\n",
    "    if chunk.startswith('Nor'):\n",
    "        z_index = chunks.index(chunk)\n",
    "    if chunk.startswith('5'):\n",
    "        a_index = chunks.index(chunk)\n",
    "\n",
    "movie_list2 = chunks[a_index : z_index+1]\n",
    "\n",
    "# convert each movie into an element of a list\n",
    "movie_names2 = []\n",
    "for movie_chunk in movie_list2:\n",
    "    if movie_chunk.endswith(\"film)\"):\n",
    "        movie_names2.append(movie_chunk[0:movie_chunk.index(\"(\")-1])\n",
    "    else:\n",
    "        movie_names2.append(movie_chunk)\n",
    "    \n",
    "# a list of all lgbt movie names from Wiki page\n",
    "print(len(movie_names2))"
   ]
  },
  {
   "cell_type": "code",
   "execution_count": 19,
   "metadata": {},
   "outputs": [],
   "source": [
    "# write out feminism movie list to csv file\n",
    "# feminism = pd.DataFrame(movie_names2)\n",
    "# feminism.to_csv('feminism.csv', index=False)"
   ]
  },
  {
   "cell_type": "markdown",
   "metadata": {},
   "source": [
    "### Online dataset\n",
    "A comprehensive csv data file from kaggle.com with movie names, keywords, budgets, revenue, etc. Keywords indicate the theme and category of the film, which will be used to find LGBT/Feminism movie names.\n",
    "<br><br>\n",
    "**Url**: https://www.kaggle.com/juzershakir/tmdb-moviesdataset/home"
   ]
  },
  {
   "cell_type": "code",
   "execution_count": 20,
   "metadata": {},
   "outputs": [],
   "source": [
    "file = pd.read_csv('/Users/amberwu/Downloads/UIUC/Course FL 2018/Open Data Mashups/Data repo/Movie avg ratings/Movie_rating2/tmdb_movies_data.csv')\n",
    "\n",
    "# keywords for search\n",
    "searchfor = ['lgbt','gay','lesb','strong woman','strong women','femin','homo']\n",
    "\n",
    "# in order to search multiple keywords at a time\n",
    "file_alter = file[file['keywords'].str.contains('|'.join(searchfor), na=False)]"
   ]
  },
  {
   "cell_type": "code",
   "execution_count": 21,
   "metadata": {},
   "outputs": [
    {
     "data": {
      "text/plain": [
       "(196, 21)"
      ]
     },
     "execution_count": 21,
     "metadata": {},
     "output_type": "execute_result"
    }
   ],
   "source": [
    "# Get 196 rows of data: 196 movie names\n",
    "file_alter.shape"
   ]
  },
  {
   "cell_type": "code",
   "execution_count": 22,
   "metadata": {},
   "outputs": [],
   "source": [
    "name_tmdb = file_alter[['original_title']]"
   ]
  },
  {
   "cell_type": "code",
   "execution_count": 23,
   "metadata": {},
   "outputs": [
    {
     "data": {
      "text/html": [
       "<div>\n",
       "<style scoped>\n",
       "    .dataframe tbody tr th:only-of-type {\n",
       "        vertical-align: middle;\n",
       "    }\n",
       "\n",
       "    .dataframe tbody tr th {\n",
       "        vertical-align: top;\n",
       "    }\n",
       "\n",
       "    .dataframe thead th {\n",
       "        text-align: right;\n",
       "    }\n",
       "</style>\n",
       "<table border=\"1\" class=\"dataframe\">\n",
       "  <thead>\n",
       "    <tr style=\"text-align: right;\">\n",
       "      <th></th>\n",
       "      <th>original_title</th>\n",
       "    </tr>\n",
       "  </thead>\n",
       "  <tbody>\n",
       "    <tr>\n",
       "      <th>19</th>\n",
       "      <td>The Hunger Games: Mockingjay - Part 2</td>\n",
       "    </tr>\n",
       "    <tr>\n",
       "      <th>50</th>\n",
       "      <td>Carol</td>\n",
       "    </tr>\n",
       "    <tr>\n",
       "      <th>157</th>\n",
       "      <td>Ricki and the Flash</td>\n",
       "    </tr>\n",
       "    <tr>\n",
       "      <th>168</th>\n",
       "      <td>Suffragette</td>\n",
       "    </tr>\n",
       "    <tr>\n",
       "      <th>200</th>\n",
       "      <td>Freeheld</td>\n",
       "    </tr>\n",
       "  </tbody>\n",
       "</table>\n",
       "</div>"
      ],
      "text/plain": [
       "                            original_title\n",
       "19   The Hunger Games: Mockingjay - Part 2\n",
       "50                                   Carol\n",
       "157                    Ricki and the Flash\n",
       "168                            Suffragette\n",
       "200                               Freeheld"
      ]
     },
     "execution_count": 23,
     "metadata": {},
     "output_type": "execute_result"
    }
   ],
   "source": [
    "name_tmdb.head(5)"
   ]
  },
  {
   "cell_type": "code",
   "execution_count": 24,
   "metadata": {},
   "outputs": [],
   "source": [
    "# write out movie list file\n",
    "# name_tmdb.to_csv(\"movieName3.csv\")"
   ]
  },
  {
   "cell_type": "markdown",
   "metadata": {},
   "source": [
    "### Online repository\n",
    "\n",
    "This dataset describes 5-star rating and free-text tagging activity from [MovieLens](http://movielens.org), a movie recommendation service. It contains 20000263 ratings and 465564 tag applications across 27278 movies. These data were created by 138493 users between January 09, 1995 and March 31, 2015. This dataset was generated on March 31, 2015, and updated on October 17, 2016. <br>\n",
    "\n",
    "The data are contained in six files, `genome-scores.csv`, `genome-tags.csv`, `links.csv`, `movies.csv`, `ratings.csv` and `tags.csv`.\n",
    "\n",
    "> F. Maxwell Harper and Joseph A. Konstan. 2015. The MovieLens Datasets: History and Context. ACM Transactions on Interactive Intelligent Systems (TiiS) 5, 4, Article 19 (December 2015), 19 pages. DOI=<http://dx.doi.org/10.1145/2827872>\n",
    "\n",
    "Column 'tag' in `tags.csv` is used to filter LGBT/Feminist topic movies."
   ]
  },
  {
   "cell_type": "code",
   "execution_count": 25,
   "metadata": {},
   "outputs": [],
   "source": [
    "# Read in data\n",
    "file_rating = pd.read_csv('/Users/amberwu/Downloads/UIUC/Course FL 2018/Open Data Mashups/Data repo/Movie avg ratings/Movie_rating1/ml-20m/ratings.csv')\n",
    "file_tag = pd.read_csv('/Users/amberwu/Downloads/UIUC/Course FL 2018/Open Data Mashups/Data repo/Movie avg ratings/Movie_rating1/ml-20m/tags.csv')"
   ]
  },
  {
   "cell_type": "code",
   "execution_count": 26,
   "metadata": {},
   "outputs": [
    {
     "data": {
      "text/html": [
       "<div>\n",
       "<style scoped>\n",
       "    .dataframe tbody tr th:only-of-type {\n",
       "        vertical-align: middle;\n",
       "    }\n",
       "\n",
       "    .dataframe tbody tr th {\n",
       "        vertical-align: top;\n",
       "    }\n",
       "\n",
       "    .dataframe thead th {\n",
       "        text-align: right;\n",
       "    }\n",
       "</style>\n",
       "<table border=\"1\" class=\"dataframe\">\n",
       "  <thead>\n",
       "    <tr style=\"text-align: right;\">\n",
       "      <th></th>\n",
       "      <th>userId</th>\n",
       "      <th>movieId</th>\n",
       "      <th>rating</th>\n",
       "      <th>timestamp</th>\n",
       "    </tr>\n",
       "  </thead>\n",
       "  <tbody>\n",
       "    <tr>\n",
       "      <th>0</th>\n",
       "      <td>1</td>\n",
       "      <td>2</td>\n",
       "      <td>3.5</td>\n",
       "      <td>1112486027</td>\n",
       "    </tr>\n",
       "    <tr>\n",
       "      <th>1</th>\n",
       "      <td>1</td>\n",
       "      <td>29</td>\n",
       "      <td>3.5</td>\n",
       "      <td>1112484676</td>\n",
       "    </tr>\n",
       "    <tr>\n",
       "      <th>2</th>\n",
       "      <td>1</td>\n",
       "      <td>32</td>\n",
       "      <td>3.5</td>\n",
       "      <td>1112484819</td>\n",
       "    </tr>\n",
       "    <tr>\n",
       "      <th>3</th>\n",
       "      <td>1</td>\n",
       "      <td>47</td>\n",
       "      <td>3.5</td>\n",
       "      <td>1112484727</td>\n",
       "    </tr>\n",
       "    <tr>\n",
       "      <th>4</th>\n",
       "      <td>1</td>\n",
       "      <td>50</td>\n",
       "      <td>3.5</td>\n",
       "      <td>1112484580</td>\n",
       "    </tr>\n",
       "  </tbody>\n",
       "</table>\n",
       "</div>"
      ],
      "text/plain": [
       "   userId  movieId  rating   timestamp\n",
       "0       1        2     3.5  1112486027\n",
       "1       1       29     3.5  1112484676\n",
       "2       1       32     3.5  1112484819\n",
       "3       1       47     3.5  1112484727\n",
       "4       1       50     3.5  1112484580"
      ]
     },
     "execution_count": 26,
     "metadata": {},
     "output_type": "execute_result"
    }
   ],
   "source": [
    "file_rating.head()"
   ]
  },
  {
   "cell_type": "code",
   "execution_count": 27,
   "metadata": {},
   "outputs": [
    {
     "data": {
      "text/html": [
       "<div>\n",
       "<style scoped>\n",
       "    .dataframe tbody tr th:only-of-type {\n",
       "        vertical-align: middle;\n",
       "    }\n",
       "\n",
       "    .dataframe tbody tr th {\n",
       "        vertical-align: top;\n",
       "    }\n",
       "\n",
       "    .dataframe thead th {\n",
       "        text-align: right;\n",
       "    }\n",
       "</style>\n",
       "<table border=\"1\" class=\"dataframe\">\n",
       "  <thead>\n",
       "    <tr style=\"text-align: right;\">\n",
       "      <th></th>\n",
       "      <th>userId</th>\n",
       "      <th>movieId</th>\n",
       "      <th>tag</th>\n",
       "      <th>timestamp</th>\n",
       "    </tr>\n",
       "  </thead>\n",
       "  <tbody>\n",
       "    <tr>\n",
       "      <th>0</th>\n",
       "      <td>18</td>\n",
       "      <td>4141</td>\n",
       "      <td>Mark Waters</td>\n",
       "      <td>1240597180</td>\n",
       "    </tr>\n",
       "    <tr>\n",
       "      <th>1</th>\n",
       "      <td>65</td>\n",
       "      <td>208</td>\n",
       "      <td>dark hero</td>\n",
       "      <td>1368150078</td>\n",
       "    </tr>\n",
       "    <tr>\n",
       "      <th>2</th>\n",
       "      <td>65</td>\n",
       "      <td>353</td>\n",
       "      <td>dark hero</td>\n",
       "      <td>1368150079</td>\n",
       "    </tr>\n",
       "    <tr>\n",
       "      <th>3</th>\n",
       "      <td>65</td>\n",
       "      <td>521</td>\n",
       "      <td>noir thriller</td>\n",
       "      <td>1368149983</td>\n",
       "    </tr>\n",
       "    <tr>\n",
       "      <th>4</th>\n",
       "      <td>65</td>\n",
       "      <td>592</td>\n",
       "      <td>dark hero</td>\n",
       "      <td>1368150078</td>\n",
       "    </tr>\n",
       "  </tbody>\n",
       "</table>\n",
       "</div>"
      ],
      "text/plain": [
       "   userId  movieId            tag   timestamp\n",
       "0      18     4141    Mark Waters  1240597180\n",
       "1      65      208      dark hero  1368150078\n",
       "2      65      353      dark hero  1368150079\n",
       "3      65      521  noir thriller  1368149983\n",
       "4      65      592      dark hero  1368150078"
      ]
     },
     "execution_count": 27,
     "metadata": {},
     "output_type": "execute_result"
    }
   ],
   "source": [
    "file_tag.head()"
   ]
  },
  {
   "cell_type": "code",
   "execution_count": 28,
   "metadata": {},
   "outputs": [],
   "source": [
    "# Read in data\n",
    "file_movie = pd.read_csv('/Users/amberwu/Downloads/UIUC/Course FL 2018/Open Data Mashups/Data repo/Movie avg ratings/Movie_rating1/ml-20m/movies.csv')"
   ]
  },
  {
   "cell_type": "code",
   "execution_count": 29,
   "metadata": {},
   "outputs": [
    {
     "data": {
      "text/html": [
       "<div>\n",
       "<style scoped>\n",
       "    .dataframe tbody tr th:only-of-type {\n",
       "        vertical-align: middle;\n",
       "    }\n",
       "\n",
       "    .dataframe tbody tr th {\n",
       "        vertical-align: top;\n",
       "    }\n",
       "\n",
       "    .dataframe thead th {\n",
       "        text-align: right;\n",
       "    }\n",
       "</style>\n",
       "<table border=\"1\" class=\"dataframe\">\n",
       "  <thead>\n",
       "    <tr style=\"text-align: right;\">\n",
       "      <th></th>\n",
       "      <th>movieId</th>\n",
       "      <th>title</th>\n",
       "      <th>genres</th>\n",
       "    </tr>\n",
       "  </thead>\n",
       "  <tbody>\n",
       "    <tr>\n",
       "      <th>0</th>\n",
       "      <td>1</td>\n",
       "      <td>Toy Story (1995)</td>\n",
       "      <td>Adventure|Animation|Children|Comedy|Fantasy</td>\n",
       "    </tr>\n",
       "    <tr>\n",
       "      <th>1</th>\n",
       "      <td>2</td>\n",
       "      <td>Jumanji (1995)</td>\n",
       "      <td>Adventure|Children|Fantasy</td>\n",
       "    </tr>\n",
       "    <tr>\n",
       "      <th>2</th>\n",
       "      <td>3</td>\n",
       "      <td>Grumpier Old Men (1995)</td>\n",
       "      <td>Comedy|Romance</td>\n",
       "    </tr>\n",
       "    <tr>\n",
       "      <th>3</th>\n",
       "      <td>4</td>\n",
       "      <td>Waiting to Exhale (1995)</td>\n",
       "      <td>Comedy|Drama|Romance</td>\n",
       "    </tr>\n",
       "    <tr>\n",
       "      <th>4</th>\n",
       "      <td>5</td>\n",
       "      <td>Father of the Bride Part II (1995)</td>\n",
       "      <td>Comedy</td>\n",
       "    </tr>\n",
       "  </tbody>\n",
       "</table>\n",
       "</div>"
      ],
      "text/plain": [
       "   movieId                               title  \\\n",
       "0        1                    Toy Story (1995)   \n",
       "1        2                      Jumanji (1995)   \n",
       "2        3             Grumpier Old Men (1995)   \n",
       "3        4            Waiting to Exhale (1995)   \n",
       "4        5  Father of the Bride Part II (1995)   \n",
       "\n",
       "                                        genres  \n",
       "0  Adventure|Animation|Children|Comedy|Fantasy  \n",
       "1                   Adventure|Children|Fantasy  \n",
       "2                               Comedy|Romance  \n",
       "3                         Comedy|Drama|Romance  \n",
       "4                                       Comedy  "
      ]
     },
     "execution_count": 29,
     "metadata": {},
     "output_type": "execute_result"
    }
   ],
   "source": [
    "file_movie.head()"
   ]
  },
  {
   "cell_type": "code",
   "execution_count": 30,
   "metadata": {},
   "outputs": [
    {
     "data": {
      "text/html": [
       "<div>\n",
       "<style scoped>\n",
       "    .dataframe tbody tr th:only-of-type {\n",
       "        vertical-align: middle;\n",
       "    }\n",
       "\n",
       "    .dataframe tbody tr th {\n",
       "        vertical-align: top;\n",
       "    }\n",
       "\n",
       "    .dataframe thead th {\n",
       "        text-align: right;\n",
       "    }\n",
       "</style>\n",
       "<table border=\"1\" class=\"dataframe\">\n",
       "  <thead>\n",
       "    <tr style=\"text-align: right;\">\n",
       "      <th></th>\n",
       "      <th>movieId</th>\n",
       "      <th>imdbId</th>\n",
       "      <th>tmdbId</th>\n",
       "    </tr>\n",
       "  </thead>\n",
       "  <tbody>\n",
       "    <tr>\n",
       "      <th>0</th>\n",
       "      <td>1</td>\n",
       "      <td>114709</td>\n",
       "      <td>862.0</td>\n",
       "    </tr>\n",
       "    <tr>\n",
       "      <th>1</th>\n",
       "      <td>2</td>\n",
       "      <td>113497</td>\n",
       "      <td>8844.0</td>\n",
       "    </tr>\n",
       "    <tr>\n",
       "      <th>2</th>\n",
       "      <td>3</td>\n",
       "      <td>113228</td>\n",
       "      <td>15602.0</td>\n",
       "    </tr>\n",
       "    <tr>\n",
       "      <th>3</th>\n",
       "      <td>4</td>\n",
       "      <td>114885</td>\n",
       "      <td>31357.0</td>\n",
       "    </tr>\n",
       "    <tr>\n",
       "      <th>4</th>\n",
       "      <td>5</td>\n",
       "      <td>113041</td>\n",
       "      <td>11862.0</td>\n",
       "    </tr>\n",
       "  </tbody>\n",
       "</table>\n",
       "</div>"
      ],
      "text/plain": [
       "   movieId  imdbId   tmdbId\n",
       "0        1  114709    862.0\n",
       "1        2  113497   8844.0\n",
       "2        3  113228  15602.0\n",
       "3        4  114885  31357.0\n",
       "4        5  113041  11862.0"
      ]
     },
     "execution_count": 30,
     "metadata": {},
     "output_type": "execute_result"
    }
   ],
   "source": [
    "# Read in data\n",
    "file_link=pd.read_csv('/Users/amberwu/Downloads/UIUC/Course FL 2018/Open Data Mashups/Data repo/Movie avg ratings/Movie_rating1/ml-20m/links.csv')\n",
    "file_link.head()"
   ]
  },
  {
   "cell_type": "code",
   "execution_count": 31,
   "metadata": {},
   "outputs": [],
   "source": [
    "# search keywords from \"tag\" for lgbt/feminist related movies\n",
    "name_tag = file_tag.merge(file_movie, on='movieId')\n",
    "name_tag_alter = name_tag[name_tag['tag'].str.contains('|'.join(searchfor), na=False)]"
   ]
  },
  {
   "cell_type": "code",
   "execution_count": 32,
   "metadata": {},
   "outputs": [],
   "source": [
    "# Extract distinct movie names\n",
    "name_repo = name_tag_alter[['title']]\n",
    "name_repo_unique = list(name_repo.title.unique())"
   ]
  },
  {
   "cell_type": "code",
   "execution_count": 33,
   "metadata": {},
   "outputs": [
    {
     "data": {
      "text/plain": [
       "['L.A. Confidential (1997)',\n",
       " 'Frozen (2013)',\n",
       " 'American Pie (1999)',\n",
       " '40-Year-Old Virgin, The (2005)',\n",
       " 'Knocked Up (2007)']"
      ]
     },
     "execution_count": 33,
     "metadata": {},
     "output_type": "execute_result"
    }
   ],
   "source": [
    "name_repo_unique[0:5]\n"
   ]
  },
  {
   "cell_type": "markdown",
   "metadata": {},
   "source": [
    "### Final movie list\n",
    "\n",
    "Union three lists of movie names and get the final list of lgbt/feminism movies."
   ]
  },
  {
   "cell_type": "code",
   "execution_count": 34,
   "metadata": {},
   "outputs": [],
   "source": [
    "# Movie list from wikipedia.com\n",
    "name_wiki = []\n",
    "name_wiki.extend(movie_names1)\n",
    "name_wiki.extend(movie_names2)"
   ]
  },
  {
   "cell_type": "code",
   "execution_count": 35,
   "metadata": {},
   "outputs": [],
   "source": [
    "# Movie list from data file at kaggle.com \n",
    "name_tmdb_list = name_tmdb['original_title'].tolist()"
   ]
  },
  {
   "cell_type": "code",
   "execution_count": 36,
   "metadata": {},
   "outputs": [
    {
     "data": {
      "text/plain": [
       "['L.A. Confidential (1997)',\n",
       " 'Frozen (2013)',\n",
       " 'American Pie (1999)',\n",
       " '40-Year-Old Virgin, The (2005)',\n",
       " 'Knocked Up (2007)']"
      ]
     },
     "execution_count": 36,
     "metadata": {},
     "output_type": "execute_result"
    }
   ],
   "source": [
    "# Movie list from online repository\n",
    "name_repo_unique[0:5]"
   ]
  },
  {
   "cell_type": "code",
   "execution_count": 37,
   "metadata": {},
   "outputs": [],
   "source": [
    "movie_names3 = [x[:-7] for x in name_repo_unique]"
   ]
  },
  {
   "cell_type": "code",
   "execution_count": 38,
   "metadata": {},
   "outputs": [],
   "source": [
    "name_wiki.extend(movie_names3)"
   ]
  },
  {
   "cell_type": "code",
   "execution_count": 39,
   "metadata": {},
   "outputs": [],
   "source": [
    "# Get unique movie names\n",
    "final_movie_list = set(name_wiki)\n",
    "final_movie_list = list(final_movie_list)\n"
   ]
  },
  {
   "cell_type": "code",
   "execution_count": 40,
   "metadata": {},
   "outputs": [],
   "source": [
    "# with open('final_movieList.csv', 'w', newline='\\n') as csvfile:\n",
    "#     csvwriter = csv.writer(csvfile)\n",
    "#     csvwriter.writerow(['Movie_Name'])\n",
    "#     csvwriter.writerow(final_movie_list)"
   ]
  },
  {
   "cell_type": "markdown",
   "metadata": {},
   "source": [
    "## Average Movie ratings\n",
    "\n",
    "Average movie ratings are obtained from an online repository used [here](#Online-repository) to get move names. After I got the final movie list I will extract average movie ratings specifically for them. Below is an example of how to perform methods of \"groupby\", \"mean()\" to get average movie ratings as each movie has multiple ratings from different users. <br><br>\n",
    "**Data Source:** <br>\n",
    "- Online repository:\n",
    "    http://files.grouplens.org/datasets/movielens/ml-20m-README.html"
   ]
  },
  {
   "cell_type": "code",
   "execution_count": 41,
   "metadata": {},
   "outputs": [],
   "source": [
    "# Merge files on userId and movieId to get all individual ratings for movieid\n",
    "movie_rating = name_tag_alter.merge(file_rating, on=['userId','movieId'])"
   ]
  },
  {
   "cell_type": "code",
   "execution_count": 42,
   "metadata": {},
   "outputs": [
    {
     "data": {
      "text/html": [
       "<div>\n",
       "<style scoped>\n",
       "    .dataframe tbody tr th:only-of-type {\n",
       "        vertical-align: middle;\n",
       "    }\n",
       "\n",
       "    .dataframe tbody tr th {\n",
       "        vertical-align: top;\n",
       "    }\n",
       "\n",
       "    .dataframe thead th {\n",
       "        text-align: right;\n",
       "    }\n",
       "</style>\n",
       "<table border=\"1\" class=\"dataframe\">\n",
       "  <thead>\n",
       "    <tr style=\"text-align: right;\">\n",
       "      <th></th>\n",
       "      <th>userId</th>\n",
       "      <th>movieId</th>\n",
       "      <th>tag</th>\n",
       "      <th>timestamp_x</th>\n",
       "      <th>title</th>\n",
       "      <th>genres</th>\n",
       "      <th>rating</th>\n",
       "      <th>timestamp_y</th>\n",
       "    </tr>\n",
       "  </thead>\n",
       "  <tbody>\n",
       "    <tr>\n",
       "      <th>0</th>\n",
       "      <td>63618</td>\n",
       "      <td>1617</td>\n",
       "      <td>homoerotic subtext</td>\n",
       "      <td>1368242588</td>\n",
       "      <td>L.A. Confidential (1997)</td>\n",
       "      <td>Crime|Film-Noir|Mystery|Thriller</td>\n",
       "      <td>4.5</td>\n",
       "      <td>1351591811</td>\n",
       "    </tr>\n",
       "    <tr>\n",
       "      <th>1</th>\n",
       "      <td>96</td>\n",
       "      <td>106696</td>\n",
       "      <td>feminist</td>\n",
       "      <td>1396097502</td>\n",
       "      <td>Frozen (2013)</td>\n",
       "      <td>Adventure|Animation|Comedy|Fantasy|Musical|Rom...</td>\n",
       "      <td>3.5</td>\n",
       "      <td>1396097287</td>\n",
       "    </tr>\n",
       "    <tr>\n",
       "      <th>2</th>\n",
       "      <td>12131</td>\n",
       "      <td>106696</td>\n",
       "      <td>feminist</td>\n",
       "      <td>1419021976</td>\n",
       "      <td>Frozen (2013)</td>\n",
       "      <td>Adventure|Animation|Comedy|Fantasy|Musical|Rom...</td>\n",
       "      <td>4.0</td>\n",
       "      <td>1419021959</td>\n",
       "    </tr>\n",
       "    <tr>\n",
       "      <th>3</th>\n",
       "      <td>24134</td>\n",
       "      <td>106696</td>\n",
       "      <td>feminist</td>\n",
       "      <td>1390933092</td>\n",
       "      <td>Frozen (2013)</td>\n",
       "      <td>Adventure|Animation|Comedy|Fantasy|Musical|Rom...</td>\n",
       "      <td>5.0</td>\n",
       "      <td>1390933046</td>\n",
       "    </tr>\n",
       "    <tr>\n",
       "      <th>4</th>\n",
       "      <td>56879</td>\n",
       "      <td>106696</td>\n",
       "      <td>feminist</td>\n",
       "      <td>1417918347</td>\n",
       "      <td>Frozen (2013)</td>\n",
       "      <td>Adventure|Animation|Comedy|Fantasy|Musical|Rom...</td>\n",
       "      <td>4.5</td>\n",
       "      <td>1421637283</td>\n",
       "    </tr>\n",
       "    <tr>\n",
       "      <th>5</th>\n",
       "      <td>57434</td>\n",
       "      <td>106696</td>\n",
       "      <td>feminist</td>\n",
       "      <td>1388906221</td>\n",
       "      <td>Frozen (2013)</td>\n",
       "      <td>Adventure|Animation|Comedy|Fantasy|Musical|Rom...</td>\n",
       "      <td>4.0</td>\n",
       "      <td>1388906210</td>\n",
       "    </tr>\n",
       "    <tr>\n",
       "      <th>6</th>\n",
       "      <td>79167</td>\n",
       "      <td>106696</td>\n",
       "      <td>feminist</td>\n",
       "      <td>1390787321</td>\n",
       "      <td>Frozen (2013)</td>\n",
       "      <td>Adventure|Animation|Comedy|Fantasy|Musical|Rom...</td>\n",
       "      <td>3.5</td>\n",
       "      <td>1390787309</td>\n",
       "    </tr>\n",
       "    <tr>\n",
       "      <th>7</th>\n",
       "      <td>84441</td>\n",
       "      <td>106696</td>\n",
       "      <td>feminist</td>\n",
       "      <td>1416016304</td>\n",
       "      <td>Frozen (2013)</td>\n",
       "      <td>Adventure|Animation|Comedy|Fantasy|Musical|Rom...</td>\n",
       "      <td>2.5</td>\n",
       "      <td>1416015906</td>\n",
       "    </tr>\n",
       "    <tr>\n",
       "      <th>8</th>\n",
       "      <td>86761</td>\n",
       "      <td>106696</td>\n",
       "      <td>feminist</td>\n",
       "      <td>1420412577</td>\n",
       "      <td>Frozen (2013)</td>\n",
       "      <td>Adventure|Animation|Comedy|Fantasy|Musical|Rom...</td>\n",
       "      <td>4.5</td>\n",
       "      <td>1420412530</td>\n",
       "    </tr>\n",
       "    <tr>\n",
       "      <th>9</th>\n",
       "      <td>102576</td>\n",
       "      <td>106696</td>\n",
       "      <td>feminist</td>\n",
       "      <td>1419916572</td>\n",
       "      <td>Frozen (2013)</td>\n",
       "      <td>Adventure|Animation|Comedy|Fantasy|Musical|Rom...</td>\n",
       "      <td>4.5</td>\n",
       "      <td>1419916563</td>\n",
       "    </tr>\n",
       "  </tbody>\n",
       "</table>\n",
       "</div>"
      ],
      "text/plain": [
       "   userId  movieId                 tag  timestamp_x                     title  \\\n",
       "0   63618     1617  homoerotic subtext   1368242588  L.A. Confidential (1997)   \n",
       "1      96   106696            feminist   1396097502             Frozen (2013)   \n",
       "2   12131   106696            feminist   1419021976             Frozen (2013)   \n",
       "3   24134   106696            feminist   1390933092             Frozen (2013)   \n",
       "4   56879   106696            feminist   1417918347             Frozen (2013)   \n",
       "5   57434   106696            feminist   1388906221             Frozen (2013)   \n",
       "6   79167   106696            feminist   1390787321             Frozen (2013)   \n",
       "7   84441   106696            feminist   1416016304             Frozen (2013)   \n",
       "8   86761   106696            feminist   1420412577             Frozen (2013)   \n",
       "9  102576   106696            feminist   1419916572             Frozen (2013)   \n",
       "\n",
       "                                              genres  rating  timestamp_y  \n",
       "0                   Crime|Film-Noir|Mystery|Thriller     4.5   1351591811  \n",
       "1  Adventure|Animation|Comedy|Fantasy|Musical|Rom...     3.5   1396097287  \n",
       "2  Adventure|Animation|Comedy|Fantasy|Musical|Rom...     4.0   1419021959  \n",
       "3  Adventure|Animation|Comedy|Fantasy|Musical|Rom...     5.0   1390933046  \n",
       "4  Adventure|Animation|Comedy|Fantasy|Musical|Rom...     4.5   1421637283  \n",
       "5  Adventure|Animation|Comedy|Fantasy|Musical|Rom...     4.0   1388906210  \n",
       "6  Adventure|Animation|Comedy|Fantasy|Musical|Rom...     3.5   1390787309  \n",
       "7  Adventure|Animation|Comedy|Fantasy|Musical|Rom...     2.5   1416015906  \n",
       "8  Adventure|Animation|Comedy|Fantasy|Musical|Rom...     4.5   1420412530  \n",
       "9  Adventure|Animation|Comedy|Fantasy|Musical|Rom...     4.5   1419916563  "
      ]
     },
     "execution_count": 42,
     "metadata": {},
     "output_type": "execute_result"
    }
   ],
   "source": [
    "movie_rating.head(10)"
   ]
  },
  {
   "cell_type": "code",
   "execution_count": 43,
   "metadata": {},
   "outputs": [],
   "source": [
    "# Calculate average movie ratings\n",
    "movieid_rating = movie_rating.groupby('movieId')[['rating']].mean()\n",
    "movieid_rating=movieid_rating.reset_index()"
   ]
  },
  {
   "cell_type": "code",
   "execution_count": 44,
   "metadata": {},
   "outputs": [
    {
     "data": {
      "text/html": [
       "<div>\n",
       "<style scoped>\n",
       "    .dataframe tbody tr th:only-of-type {\n",
       "        vertical-align: middle;\n",
       "    }\n",
       "\n",
       "    .dataframe tbody tr th {\n",
       "        vertical-align: top;\n",
       "    }\n",
       "\n",
       "    .dataframe thead th {\n",
       "        text-align: right;\n",
       "    }\n",
       "</style>\n",
       "<table border=\"1\" class=\"dataframe\">\n",
       "  <thead>\n",
       "    <tr style=\"text-align: right;\">\n",
       "      <th></th>\n",
       "      <th>movieId</th>\n",
       "      <th>rating</th>\n",
       "      <th>title</th>\n",
       "      <th>genres</th>\n",
       "    </tr>\n",
       "  </thead>\n",
       "  <tbody>\n",
       "    <tr>\n",
       "      <th>0</th>\n",
       "      <td>35</td>\n",
       "      <td>4.500000</td>\n",
       "      <td>Carrington (1995)</td>\n",
       "      <td>Drama|Romance</td>\n",
       "    </tr>\n",
       "    <tr>\n",
       "      <th>1</th>\n",
       "      <td>49</td>\n",
       "      <td>4.500000</td>\n",
       "      <td>When Night Is Falling (1995)</td>\n",
       "      <td>Drama|Romance</td>\n",
       "    </tr>\n",
       "    <tr>\n",
       "      <th>2</th>\n",
       "      <td>82</td>\n",
       "      <td>3.583333</td>\n",
       "      <td>Antonia's Line (Antonia) (1995)</td>\n",
       "      <td>Comedy|Drama</td>\n",
       "    </tr>\n",
       "    <tr>\n",
       "      <th>3</th>\n",
       "      <td>141</td>\n",
       "      <td>3.576923</td>\n",
       "      <td>Birdcage, The (1996)</td>\n",
       "      <td>Comedy</td>\n",
       "    </tr>\n",
       "    <tr>\n",
       "      <th>4</th>\n",
       "      <td>171</td>\n",
       "      <td>4.125000</td>\n",
       "      <td>Jeffrey (1995)</td>\n",
       "      <td>Comedy|Drama</td>\n",
       "    </tr>\n",
       "    <tr>\n",
       "      <th>5</th>\n",
       "      <td>178</td>\n",
       "      <td>3.500000</td>\n",
       "      <td>Love &amp; Human Remains (1993)</td>\n",
       "      <td>Comedy|Drama</td>\n",
       "    </tr>\n",
       "    <tr>\n",
       "      <th>6</th>\n",
       "      <td>198</td>\n",
       "      <td>2.500000</td>\n",
       "      <td>Strange Days (1995)</td>\n",
       "      <td>Action|Crime|Drama|Mystery|Sci-Fi|Thriller</td>\n",
       "    </tr>\n",
       "    <tr>\n",
       "      <th>7</th>\n",
       "      <td>203</td>\n",
       "      <td>4.000000</td>\n",
       "      <td>To Wong Foo, Thanks for Everything! Julie Newm...</td>\n",
       "      <td>Comedy</td>\n",
       "    </tr>\n",
       "    <tr>\n",
       "      <th>8</th>\n",
       "      <td>219</td>\n",
       "      <td>4.500000</td>\n",
       "      <td>Cure, The (1995)</td>\n",
       "      <td>Drama</td>\n",
       "    </tr>\n",
       "    <tr>\n",
       "      <th>9</th>\n",
       "      <td>233</td>\n",
       "      <td>4.000000</td>\n",
       "      <td>Exotica (1994)</td>\n",
       "      <td>Drama</td>\n",
       "    </tr>\n",
       "  </tbody>\n",
       "</table>\n",
       "</div>"
      ],
      "text/plain": [
       "   movieId    rating                                              title  \\\n",
       "0       35  4.500000                                  Carrington (1995)   \n",
       "1       49  4.500000                       When Night Is Falling (1995)   \n",
       "2       82  3.583333                    Antonia's Line (Antonia) (1995)   \n",
       "3      141  3.576923                               Birdcage, The (1996)   \n",
       "4      171  4.125000                                     Jeffrey (1995)   \n",
       "5      178  3.500000                        Love & Human Remains (1993)   \n",
       "6      198  2.500000                                Strange Days (1995)   \n",
       "7      203  4.000000  To Wong Foo, Thanks for Everything! Julie Newm...   \n",
       "8      219  4.500000                                   Cure, The (1995)   \n",
       "9      233  4.000000                                     Exotica (1994)   \n",
       "\n",
       "                                       genres  \n",
       "0                               Drama|Romance  \n",
       "1                               Drama|Romance  \n",
       "2                                Comedy|Drama  \n",
       "3                                      Comedy  \n",
       "4                                Comedy|Drama  \n",
       "5                                Comedy|Drama  \n",
       "6  Action|Crime|Drama|Mystery|Sci-Fi|Thriller  \n",
       "7                                      Comedy  \n",
       "8                                       Drama  \n",
       "9                                       Drama  "
      ]
     },
     "execution_count": 44,
     "metadata": {},
     "output_type": "execute_result"
    }
   ],
   "source": [
    "# The above dataframe only has movieid not movie name. \n",
    "# Merge files to get ratings for movie titles\n",
    "moviename_rating = movieid_rating.merge(file_movie, on='movieId')\n",
    "moviename_rating.head(10)"
   ]
  },
  {
   "cell_type": "code",
   "execution_count": 45,
   "metadata": {},
   "outputs": [],
   "source": [
    "# convert movie name to lowercase for the convenience of further processing\n",
    "moviename_rating['title'] = moviename_rating['title'].apply(lambda title:title[:-7].lower())\n"
   ]
  },
  {
   "cell_type": "code",
   "execution_count": 46,
   "metadata": {},
   "outputs": [],
   "source": [
    "# I selected a sample of 29 movies \n",
    "nameList = ['Anatomy of Hell','being julia', 'brokeback mountain','call me by your name','Carol','Christopher and his Kind',\n",
    "           'Fabulous! The Story of Queer Cinema','Fellini Satyricon','Fight Club','Henry & June','I Now Pronounce You Chuck and Larry',\n",
    "           'I Spit on Your Grave','Iron Jawed Angels',\"Jennifer's Body\",'Lawrence of Arabia','Merry Christmas, Mr. Lawrence',\n",
    "           \"Miller's Crossing\",'Mona Lisa Smile','My Beautiful Laundrette','My Own Private Idaho','Naked Vengeance',\"Naomi and Ely's No Kiss List\",\n",
    "           'Pink Narcissus','The Ballad of Josie','The Hunger Games- Mockingjay','The love witch','The Picture of Dorian Gray',\n",
    "           'The Wedding Banquet','Waiting for Guffman']\n",
    "nameList2 = [x.lower() for x in nameList]\n",
    "sampleName = moviename_rating[moviename_rating['title'].str.contains('|'.join(nameList2), na=False)]"
   ]
  },
  {
   "cell_type": "markdown",
   "metadata": {},
   "source": [
    "Add movie ratings for the rest of sample movies selected (Not all movies I selected have ratings in the repo I downloaded)  "
   ]
  },
  {
   "cell_type": "code",
   "execution_count": 47,
   "metadata": {},
   "outputs": [
    {
     "name": "stderr",
     "output_type": "stream",
     "text": [
      "/Users/amberwu/anaconda/lib/python3.6/site-packages/ipykernel_launcher.py:16: SettingWithCopyWarning: \n",
      "A value is trying to be set on a copy of a slice from a DataFrame\n",
      "\n",
      "See the caveats in the documentation: http://pandas.pydata.org/pandas-docs/stable/indexing.html#indexing-view-versus-copy\n",
      "  app.launch_new_instance()\n"
     ]
    }
   ],
   "source": [
    "rating = {'Anatomy of Hell':2.25, 'being julia':3.5,'call me by your name':3.95,'Carol': 3.6,'Christopher and his Kind':3.5,\n",
    "         'Fabulous! The Story of Queer Cinema':3.45, 'Fellini Satyricon':3.5,\n",
    "           'I Spit on Your Grave':3.15,'Iron Jawed Angels':3.8,'Lawrence of Arabia':4.15,'Merry Christmas, Mr. Lawrence':3.65,\n",
    "           \"Miller's Crossing\":3.9,'Naked Vengeance':3.1,\"Naomi and Ely's No Kiss List\":2.8,\n",
    "           'Pink Narcissus':3.35,'The Ballad of Josie':2.9,'The Hunger Games- Mockingjay':3.35,'The love witch':3.1,\n",
    "           'The Picture of Dorian Gray':3.8,'The Wedding Banquet':3.85,'Waiting for Guffman':3.8 }\n",
    "\n",
    "temp_name = ['Anatomy of Hell','being julia', 'call me by your name','Carol','Christopher and his Kind',\n",
    "           'Fabulous! The Story of Queer Cinema','Fellini Satyricon',\n",
    "           'I Spit on Your Grave','Iron Jawed Angels','Lawrence of Arabia','Merry Christmas, Mr. Lawrence',\n",
    "           \"Miller's Crossing\",'Naked Vengeance',\"Naomi and Ely's No Kiss List\",\n",
    "           'Pink Narcissus','The Ballad of Josie','The Hunger Games- Mockingjay','The love witch','The Picture of Dorian Gray',\n",
    "           'The Wedding Banquet','Waiting for Guffman']\n",
    "\n",
    "for i in range(21):\n",
    "    sampleName.loc[i] = ['x',rating[temp_name[i]], temp_name[i], 'x']"
   ]
  },
  {
   "cell_type": "code",
   "execution_count": 48,
   "metadata": {
    "scrolled": true
   },
   "outputs": [
    {
     "name": "stderr",
     "output_type": "stream",
     "text": [
      "/Users/amberwu/anaconda/lib/python3.6/site-packages/ipykernel_launcher.py:2: SettingWithCopyWarning: \n",
      "A value is trying to be set on a copy of a slice from a DataFrame.\n",
      "Try using .loc[row_indexer,col_indexer] = value instead\n",
      "\n",
      "See the caveats in the documentation: http://pandas.pydata.org/pandas-docs/stable/indexing.html#indexing-view-versus-copy\n",
      "  \n"
     ]
    },
    {
     "data": {
      "text/html": [
       "<div>\n",
       "<style scoped>\n",
       "    .dataframe tbody tr th:only-of-type {\n",
       "        vertical-align: middle;\n",
       "    }\n",
       "\n",
       "    .dataframe tbody tr th {\n",
       "        vertical-align: top;\n",
       "    }\n",
       "\n",
       "    .dataframe thead th {\n",
       "        text-align: right;\n",
       "    }\n",
       "</style>\n",
       "<table border=\"1\" class=\"dataframe\">\n",
       "  <thead>\n",
       "    <tr style=\"text-align: right;\">\n",
       "      <th></th>\n",
       "      <th>movieId</th>\n",
       "      <th>rating</th>\n",
       "      <th>title</th>\n",
       "      <th>genres</th>\n",
       "    </tr>\n",
       "  </thead>\n",
       "  <tbody>\n",
       "    <tr>\n",
       "      <th>50</th>\n",
       "      <td>1611</td>\n",
       "      <td>0.200000</td>\n",
       "      <td>my own private idaho</td>\n",
       "      <td>Drama|Romance</td>\n",
       "    </tr>\n",
       "    <tr>\n",
       "      <th>99</th>\n",
       "      <td>2959</td>\n",
       "      <td>1.000000</td>\n",
       "      <td>fight club</td>\n",
       "      <td>Action|Crime|Drama|Thriller</td>\n",
       "    </tr>\n",
       "    <tr>\n",
       "      <th>154</th>\n",
       "      <td>5367</td>\n",
       "      <td>0.560000</td>\n",
       "      <td>my beautiful laundrette</td>\n",
       "      <td>Drama|Romance</td>\n",
       "    </tr>\n",
       "    <tr>\n",
       "      <th>198</th>\n",
       "      <td>7154</td>\n",
       "      <td>0.400000</td>\n",
       "      <td>mona lisa smile</td>\n",
       "      <td>Drama|Romance</td>\n",
       "    </tr>\n",
       "    <tr>\n",
       "      <th>206</th>\n",
       "      <td>7487</td>\n",
       "      <td>0.200000</td>\n",
       "      <td>henry &amp; june</td>\n",
       "      <td>Drama</td>\n",
       "    </tr>\n",
       "    <tr>\n",
       "      <th>264</th>\n",
       "      <td>39183</td>\n",
       "      <td>0.489286</td>\n",
       "      <td>brokeback mountain</td>\n",
       "      <td>Drama|Romance</td>\n",
       "    </tr>\n",
       "    <tr>\n",
       "      <th>302</th>\n",
       "      <td>54004</td>\n",
       "      <td>-0.050000</td>\n",
       "      <td>i now pronounce you chuck and larry</td>\n",
       "      <td>Comedy|Romance</td>\n",
       "    </tr>\n",
       "    <tr>\n",
       "      <th>362</th>\n",
       "      <td>71205</td>\n",
       "      <td>0.320000</td>\n",
       "      <td>jennifer's body</td>\n",
       "      <td>Comedy|Horror|Sci-Fi|Thriller</td>\n",
       "    </tr>\n",
       "    <tr>\n",
       "      <th>0</th>\n",
       "      <td>x</td>\n",
       "      <td>-0.100000</td>\n",
       "      <td>Anatomy of Hell</td>\n",
       "      <td>x</td>\n",
       "    </tr>\n",
       "    <tr>\n",
       "      <th>1</th>\n",
       "      <td>x</td>\n",
       "      <td>0.400000</td>\n",
       "      <td>being julia</td>\n",
       "      <td>x</td>\n",
       "    </tr>\n",
       "    <tr>\n",
       "      <th>2</th>\n",
       "      <td>x</td>\n",
       "      <td>0.580000</td>\n",
       "      <td>call me by your name</td>\n",
       "      <td>x</td>\n",
       "    </tr>\n",
       "    <tr>\n",
       "      <th>3</th>\n",
       "      <td>x</td>\n",
       "      <td>0.440000</td>\n",
       "      <td>Carol</td>\n",
       "      <td>x</td>\n",
       "    </tr>\n",
       "    <tr>\n",
       "      <th>4</th>\n",
       "      <td>x</td>\n",
       "      <td>0.400000</td>\n",
       "      <td>Christopher and his Kind</td>\n",
       "      <td>x</td>\n",
       "    </tr>\n",
       "    <tr>\n",
       "      <th>5</th>\n",
       "      <td>x</td>\n",
       "      <td>0.380000</td>\n",
       "      <td>Fabulous! The Story of Queer Cinema</td>\n",
       "      <td>x</td>\n",
       "    </tr>\n",
       "    <tr>\n",
       "      <th>6</th>\n",
       "      <td>x</td>\n",
       "      <td>0.400000</td>\n",
       "      <td>Fellini Satyricon</td>\n",
       "      <td>x</td>\n",
       "    </tr>\n",
       "    <tr>\n",
       "      <th>7</th>\n",
       "      <td>x</td>\n",
       "      <td>0.260000</td>\n",
       "      <td>I Spit on Your Grave</td>\n",
       "      <td>x</td>\n",
       "    </tr>\n",
       "    <tr>\n",
       "      <th>8</th>\n",
       "      <td>x</td>\n",
       "      <td>0.520000</td>\n",
       "      <td>Iron Jawed Angels</td>\n",
       "      <td>x</td>\n",
       "    </tr>\n",
       "    <tr>\n",
       "      <th>9</th>\n",
       "      <td>x</td>\n",
       "      <td>0.660000</td>\n",
       "      <td>Lawrence of Arabia</td>\n",
       "      <td>x</td>\n",
       "    </tr>\n",
       "    <tr>\n",
       "      <th>10</th>\n",
       "      <td>x</td>\n",
       "      <td>0.460000</td>\n",
       "      <td>Merry Christmas, Mr. Lawrence</td>\n",
       "      <td>x</td>\n",
       "    </tr>\n",
       "    <tr>\n",
       "      <th>11</th>\n",
       "      <td>x</td>\n",
       "      <td>0.560000</td>\n",
       "      <td>Miller's Crossing</td>\n",
       "      <td>x</td>\n",
       "    </tr>\n",
       "    <tr>\n",
       "      <th>12</th>\n",
       "      <td>x</td>\n",
       "      <td>0.240000</td>\n",
       "      <td>Naked Vengeance</td>\n",
       "      <td>x</td>\n",
       "    </tr>\n",
       "    <tr>\n",
       "      <th>13</th>\n",
       "      <td>x</td>\n",
       "      <td>0.120000</td>\n",
       "      <td>Naomi and Ely's No Kiss List</td>\n",
       "      <td>x</td>\n",
       "    </tr>\n",
       "    <tr>\n",
       "      <th>14</th>\n",
       "      <td>x</td>\n",
       "      <td>0.340000</td>\n",
       "      <td>Pink Narcissus</td>\n",
       "      <td>x</td>\n",
       "    </tr>\n",
       "    <tr>\n",
       "      <th>15</th>\n",
       "      <td>x</td>\n",
       "      <td>0.160000</td>\n",
       "      <td>The Ballad of Josie</td>\n",
       "      <td>x</td>\n",
       "    </tr>\n",
       "    <tr>\n",
       "      <th>16</th>\n",
       "      <td>x</td>\n",
       "      <td>0.340000</td>\n",
       "      <td>The Hunger Games- Mockingjay</td>\n",
       "      <td>x</td>\n",
       "    </tr>\n",
       "    <tr>\n",
       "      <th>17</th>\n",
       "      <td>x</td>\n",
       "      <td>0.240000</td>\n",
       "      <td>The love witch</td>\n",
       "      <td>x</td>\n",
       "    </tr>\n",
       "    <tr>\n",
       "      <th>18</th>\n",
       "      <td>x</td>\n",
       "      <td>0.520000</td>\n",
       "      <td>The Picture of Dorian Gray</td>\n",
       "      <td>x</td>\n",
       "    </tr>\n",
       "    <tr>\n",
       "      <th>19</th>\n",
       "      <td>x</td>\n",
       "      <td>0.540000</td>\n",
       "      <td>The Wedding Banquet</td>\n",
       "      <td>x</td>\n",
       "    </tr>\n",
       "    <tr>\n",
       "      <th>20</th>\n",
       "      <td>x</td>\n",
       "      <td>0.520000</td>\n",
       "      <td>Waiting for Guffman</td>\n",
       "      <td>x</td>\n",
       "    </tr>\n",
       "  </tbody>\n",
       "</table>\n",
       "</div>"
      ],
      "text/plain": [
       "    movieId    rating                                title  \\\n",
       "50     1611  0.200000                 my own private idaho   \n",
       "99     2959  1.000000                           fight club   \n",
       "154    5367  0.560000              my beautiful laundrette   \n",
       "198    7154  0.400000                      mona lisa smile   \n",
       "206    7487  0.200000                         henry & june   \n",
       "264   39183  0.489286                   brokeback mountain   \n",
       "302   54004 -0.050000  i now pronounce you chuck and larry   \n",
       "362   71205  0.320000                      jennifer's body   \n",
       "0         x -0.100000                      Anatomy of Hell   \n",
       "1         x  0.400000                          being julia   \n",
       "2         x  0.580000                 call me by your name   \n",
       "3         x  0.440000                                Carol   \n",
       "4         x  0.400000             Christopher and his Kind   \n",
       "5         x  0.380000  Fabulous! The Story of Queer Cinema   \n",
       "6         x  0.400000                    Fellini Satyricon   \n",
       "7         x  0.260000                 I Spit on Your Grave   \n",
       "8         x  0.520000                    Iron Jawed Angels   \n",
       "9         x  0.660000                   Lawrence of Arabia   \n",
       "10        x  0.460000        Merry Christmas, Mr. Lawrence   \n",
       "11        x  0.560000                    Miller's Crossing   \n",
       "12        x  0.240000                      Naked Vengeance   \n",
       "13        x  0.120000         Naomi and Ely's No Kiss List   \n",
       "14        x  0.340000                       Pink Narcissus   \n",
       "15        x  0.160000                  The Ballad of Josie   \n",
       "16        x  0.340000         The Hunger Games- Mockingjay   \n",
       "17        x  0.240000                       The love witch   \n",
       "18        x  0.520000           The Picture of Dorian Gray   \n",
       "19        x  0.540000                  The Wedding Banquet   \n",
       "20        x  0.520000                  Waiting for Guffman   \n",
       "\n",
       "                            genres  \n",
       "50                   Drama|Romance  \n",
       "99     Action|Crime|Drama|Thriller  \n",
       "154                  Drama|Romance  \n",
       "198                  Drama|Romance  \n",
       "206                          Drama  \n",
       "264                  Drama|Romance  \n",
       "302                 Comedy|Romance  \n",
       "362  Comedy|Horror|Sci-Fi|Thriller  \n",
       "0                                x  \n",
       "1                                x  \n",
       "2                                x  \n",
       "3                                x  \n",
       "4                                x  \n",
       "5                                x  \n",
       "6                                x  \n",
       "7                                x  \n",
       "8                                x  \n",
       "9                                x  \n",
       "10                               x  \n",
       "11                               x  \n",
       "12                               x  \n",
       "13                               x  \n",
       "14                               x  \n",
       "15                               x  \n",
       "16                               x  \n",
       "17                               x  \n",
       "18                               x  \n",
       "19                               x  \n",
       "20                               x  "
      ]
     },
     "execution_count": 48,
     "metadata": {},
     "output_type": "execute_result"
    }
   ],
   "source": [
    "# Normalize rating to (-1,1) to compare with polarity for sentimental analysis\n",
    "sampleName['rating'] = sampleName['rating'].apply(lambda x:(x*(2/5)-1))\n",
    "sampleName"
   ]
  },
  {
   "cell_type": "code",
   "execution_count": 49,
   "metadata": {},
   "outputs": [],
   "source": [
    "# Output average movie rating for selected movies\n",
    "# sampleName.to_csv('sampleMovieRating.csv')"
   ]
  },
  {
   "cell_type": "markdown",
   "metadata": {},
   "source": [
    "## Tweets\n",
    "Using Twitter API to get people's reviews on movies. Since there are search limitation for free-tier user of Twitter API (only have access to up to 7 days' tweet content) I utilize XPath to get tweet id of movies I'm interested in and then use API to get the tweet content based on tweet id. Detailed steps are as following:\n",
    "\n",
    "1. For each movie, search movie names in Twitter.\n",
    "2. Use XPath helper to get tweet id on the search result page, and save them in txt files.\n",
    "3. Use Twitter API to extract content of each tweet id.\n",
    "\n",
    "Step 1 invovles manually typing the movie name, which will be performed for each movie. Movie list I got from previous steps is over 500. In this project, I will do manual search for 50 movies. In the future, I will explore more efficient way to get tweets online.\n",
    "\n",
    "<br>\n",
    "The following code blocks show the way of getting tweet content and storing them into dataframe for further analysis on 2 movies. "
   ]
  },
  {
   "cell_type": "code",
   "execution_count": 50,
   "metadata": {},
   "outputs": [],
   "source": [
    "# authorization\n",
    "API_KEY = ''\n",
    "API_SECRET = ''\n",
    "\n",
    "ACCESS_TOKEN = ''\n",
    "ACCESS_TOKEN_SECRET = ''\n",
    "\n",
    "auth = tweepy.OAuthHandler(API_KEY, API_SECRET)\n",
    "auth.set_access_token(ACCESS_TOKEN, ACCESS_TOKEN_SECRET)\n",
    "\n",
    "# Create tweepy object for twitter API\n",
    "api = tweepy.API(auth)"
   ]
  },
  {
   "cell_type": "code",
   "execution_count": 51,
   "metadata": {},
   "outputs": [
    {
     "data": {
      "application/vnd.jupyter.widget-view+json": {
       "model_id": "763a369ac3644e8da40a6074dfb9f0ed",
       "version_major": 2,
       "version_minor": 0
      },
      "text/plain": [
       "HBox(children=(IntProgress(value=0, max=72), HTML(value='')))"
      ]
     },
     "metadata": {},
     "output_type": "display_data"
    },
    {
     "name": "stdout",
     "output_type": "stream",
     "text": [
      "\n"
     ]
    },
    {
     "data": {
      "application/vnd.jupyter.widget-view+json": {
       "model_id": "9f292dd32ef645ec9fc46910c78b9533",
       "version_major": 2,
       "version_minor": 0
      },
      "text/plain": [
       "HBox(children=(IntProgress(value=0, max=101), HTML(value='')))"
      ]
     },
     "metadata": {},
     "output_type": "display_data"
    },
    {
     "name": "stdout",
     "output_type": "stream",
     "text": [
      "\n"
     ]
    },
    {
     "data": {
      "application/vnd.jupyter.widget-view+json": {
       "model_id": "4d1618dec6bf43f080c5963f18d02f28",
       "version_major": 2,
       "version_minor": 0
      },
      "text/plain": [
       "HBox(children=(IntProgress(value=0, max=241), HTML(value='')))"
      ]
     },
     "metadata": {},
     "output_type": "display_data"
    },
    {
     "name": "stdout",
     "output_type": "stream",
     "text": [
      "\n"
     ]
    },
    {
     "data": {
      "application/vnd.jupyter.widget-view+json": {
       "model_id": "1f3f919b6b8d4dea93c680fa091fd609",
       "version_major": 2,
       "version_minor": 0
      },
      "text/plain": [
       "HBox(children=(IntProgress(value=0, max=216), HTML(value='')))"
      ]
     },
     "metadata": {},
     "output_type": "display_data"
    },
    {
     "name": "stdout",
     "output_type": "stream",
     "text": [
      "\n"
     ]
    },
    {
     "data": {
      "application/vnd.jupyter.widget-view+json": {
       "model_id": "705e720d67be410da7a312d5b8ee5fc7",
       "version_major": 2,
       "version_minor": 0
      },
      "text/plain": [
       "HBox(children=(IntProgress(value=0, max=263), HTML(value='')))"
      ]
     },
     "metadata": {},
     "output_type": "display_data"
    },
    {
     "name": "stdout",
     "output_type": "stream",
     "text": [
      "\n"
     ]
    },
    {
     "data": {
      "application/vnd.jupyter.widget-view+json": {
       "model_id": "62d30bf8c85c4e3a91662f54877c15e9",
       "version_major": 2,
       "version_minor": 0
      },
      "text/plain": [
       "HBox(children=(IntProgress(value=0, max=125), HTML(value='')))"
      ]
     },
     "metadata": {},
     "output_type": "display_data"
    },
    {
     "name": "stdout",
     "output_type": "stream",
     "text": [
      "\n"
     ]
    },
    {
     "data": {
      "application/vnd.jupyter.widget-view+json": {
       "model_id": "840899776ead4701bff61345aca8f5fc",
       "version_major": 2,
       "version_minor": 0
      },
      "text/plain": [
       "HBox(children=(IntProgress(value=0, max=33), HTML(value='')))"
      ]
     },
     "metadata": {},
     "output_type": "display_data"
    },
    {
     "name": "stdout",
     "output_type": "stream",
     "text": [
      "\n"
     ]
    },
    {
     "data": {
      "application/vnd.jupyter.widget-view+json": {
       "model_id": "655373e310214612bc5f3f92cf8c3f62",
       "version_major": 2,
       "version_minor": 0
      },
      "text/plain": [
       "HBox(children=(IntProgress(value=0, max=91), HTML(value='')))"
      ]
     },
     "metadata": {},
     "output_type": "display_data"
    },
    {
     "name": "stdout",
     "output_type": "stream",
     "text": [
      "\n"
     ]
    },
    {
     "data": {
      "application/vnd.jupyter.widget-view+json": {
       "model_id": "1b474b8113364f6b8aa39c403e63cd38",
       "version_major": 2,
       "version_minor": 0
      },
      "text/plain": [
       "HBox(children=(IntProgress(value=0, max=376), HTML(value='')))"
      ]
     },
     "metadata": {},
     "output_type": "display_data"
    },
    {
     "name": "stdout",
     "output_type": "stream",
     "text": [
      "\n"
     ]
    },
    {
     "data": {
      "application/vnd.jupyter.widget-view+json": {
       "model_id": "eb86b1547e60472285fb6a86bc6928a7",
       "version_major": 2,
       "version_minor": 0
      },
      "text/plain": [
       "HBox(children=(IntProgress(value=0, max=86), HTML(value='')))"
      ]
     },
     "metadata": {},
     "output_type": "display_data"
    },
    {
     "name": "stdout",
     "output_type": "stream",
     "text": [
      "\n"
     ]
    },
    {
     "data": {
      "application/vnd.jupyter.widget-view+json": {
       "model_id": "0676c0aa427142c6a17b727d5186a0d7",
       "version_major": 2,
       "version_minor": 0
      },
      "text/plain": [
       "HBox(children=(IntProgress(value=0, max=288), HTML(value='')))"
      ]
     },
     "metadata": {},
     "output_type": "display_data"
    },
    {
     "name": "stdout",
     "output_type": "stream",
     "text": [
      "\n"
     ]
    },
    {
     "data": {
      "application/vnd.jupyter.widget-view+json": {
       "model_id": "e6db04b50b6449a2bdc08050efaefc47",
       "version_major": 2,
       "version_minor": 0
      },
      "text/plain": [
       "HBox(children=(IntProgress(value=0, max=201), HTML(value='')))"
      ]
     },
     "metadata": {},
     "output_type": "display_data"
    },
    {
     "name": "stdout",
     "output_type": "stream",
     "text": [
      "\n"
     ]
    },
    {
     "data": {
      "application/vnd.jupyter.widget-view+json": {
       "model_id": "e9f3086e50d64a88840c299384966d7b",
       "version_major": 2,
       "version_minor": 0
      },
      "text/plain": [
       "HBox(children=(IntProgress(value=0, max=197), HTML(value='')))"
      ]
     },
     "metadata": {},
     "output_type": "display_data"
    },
    {
     "name": "stdout",
     "output_type": "stream",
     "text": [
      "\n"
     ]
    },
    {
     "data": {
      "application/vnd.jupyter.widget-view+json": {
       "model_id": "d9dea0a9cc4a43d0a6485cdda188a2b9",
       "version_major": 2,
       "version_minor": 0
      },
      "text/plain": [
       "HBox(children=(IntProgress(value=0, max=169), HTML(value='')))"
      ]
     },
     "metadata": {},
     "output_type": "display_data"
    },
    {
     "name": "stdout",
     "output_type": "stream",
     "text": [
      "\n"
     ]
    },
    {
     "data": {
      "application/vnd.jupyter.widget-view+json": {
       "model_id": "4437c0e5547744bb84ec4644e32ba8ea",
       "version_major": 2,
       "version_minor": 0
      },
      "text/plain": [
       "HBox(children=(IntProgress(value=0, max=379), HTML(value='')))"
      ]
     },
     "metadata": {},
     "output_type": "display_data"
    },
    {
     "name": "stdout",
     "output_type": "stream",
     "text": [
      "\n"
     ]
    },
    {
     "data": {
      "application/vnd.jupyter.widget-view+json": {
       "model_id": "49e4966c46c14e439c2e5beaa03ad419",
       "version_major": 2,
       "version_minor": 0
      },
      "text/plain": [
       "HBox(children=(IntProgress(value=0, max=286), HTML(value='')))"
      ]
     },
     "metadata": {},
     "output_type": "display_data"
    },
    {
     "name": "stdout",
     "output_type": "stream",
     "text": [
      "\n"
     ]
    },
    {
     "data": {
      "application/vnd.jupyter.widget-view+json": {
       "model_id": "d39543d1ade84c7fb1a0f6ca73f1b85c",
       "version_major": 2,
       "version_minor": 0
      },
      "text/plain": [
       "HBox(children=(IntProgress(value=0, max=397), HTML(value='')))"
      ]
     },
     "metadata": {},
     "output_type": "display_data"
    },
    {
     "name": "stdout",
     "output_type": "stream",
     "text": [
      "\n"
     ]
    },
    {
     "data": {
      "application/vnd.jupyter.widget-view+json": {
       "model_id": "97aa527475564cb8937b3be48dafc6b4",
       "version_major": 2,
       "version_minor": 0
      },
      "text/plain": [
       "HBox(children=(IntProgress(value=0, max=105), HTML(value='')))"
      ]
     },
     "metadata": {},
     "output_type": "display_data"
    },
    {
     "name": "stdout",
     "output_type": "stream",
     "text": [
      "\n"
     ]
    },
    {
     "data": {
      "application/vnd.jupyter.widget-view+json": {
       "model_id": "2d46538e005e4144989130aa9e0b8cb3",
       "version_major": 2,
       "version_minor": 0
      },
      "text/plain": [
       "HBox(children=(IntProgress(value=0, max=209), HTML(value='')))"
      ]
     },
     "metadata": {},
     "output_type": "display_data"
    },
    {
     "name": "stdout",
     "output_type": "stream",
     "text": [
      "\n"
     ]
    },
    {
     "data": {
      "application/vnd.jupyter.widget-view+json": {
       "model_id": "84c5f96048e24d7c9a4607a709f14bbe",
       "version_major": 2,
       "version_minor": 0
      },
      "text/plain": [
       "HBox(children=(IntProgress(value=0, max=347), HTML(value='')))"
      ]
     },
     "metadata": {},
     "output_type": "display_data"
    },
    {
     "name": "stdout",
     "output_type": "stream",
     "text": [
      "\n"
     ]
    },
    {
     "data": {
      "application/vnd.jupyter.widget-view+json": {
       "model_id": "6ac9abf9cd074d258bfb88434e4eebaa",
       "version_major": 2,
       "version_minor": 0
      },
      "text/plain": [
       "HBox(children=(IntProgress(value=0, max=52), HTML(value='')))"
      ]
     },
     "metadata": {},
     "output_type": "display_data"
    },
    {
     "name": "stdout",
     "output_type": "stream",
     "text": [
      "\n"
     ]
    },
    {
     "data": {
      "application/vnd.jupyter.widget-view+json": {
       "model_id": "b0ba6bfb96d143f29ffbf17275c579e1",
       "version_major": 2,
       "version_minor": 0
      },
      "text/plain": [
       "HBox(children=(IntProgress(value=0, max=170), HTML(value='')))"
      ]
     },
     "metadata": {},
     "output_type": "display_data"
    },
    {
     "name": "stdout",
     "output_type": "stream",
     "text": [
      "\n"
     ]
    },
    {
     "data": {
      "application/vnd.jupyter.widget-view+json": {
       "model_id": "b860fc59c2274c0bb4948cd6fa849461",
       "version_major": 2,
       "version_minor": 0
      },
      "text/plain": [
       "HBox(children=(IntProgress(value=0, max=182), HTML(value='')))"
      ]
     },
     "metadata": {},
     "output_type": "display_data"
    },
    {
     "name": "stdout",
     "output_type": "stream",
     "text": [
      "\n"
     ]
    },
    {
     "data": {
      "application/vnd.jupyter.widget-view+json": {
       "model_id": "4d73aa295f5b4327986493d38954cca1",
       "version_major": 2,
       "version_minor": 0
      },
      "text/plain": [
       "HBox(children=(IntProgress(value=0, max=68), HTML(value='')))"
      ]
     },
     "metadata": {},
     "output_type": "display_data"
    },
    {
     "name": "stdout",
     "output_type": "stream",
     "text": [
      "\n"
     ]
    },
    {
     "data": {
      "application/vnd.jupyter.widget-view+json": {
       "model_id": "500cbc43033540beb576706640a8d860",
       "version_major": 2,
       "version_minor": 0
      },
      "text/plain": [
       "HBox(children=(IntProgress(value=0, max=431), HTML(value='')))"
      ]
     },
     "metadata": {},
     "output_type": "display_data"
    },
    {
     "name": "stdout",
     "output_type": "stream",
     "text": [
      "\n"
     ]
    },
    {
     "data": {
      "application/vnd.jupyter.widget-view+json": {
       "model_id": "186d6d2a97c34a599e57bd48ddeb9431",
       "version_major": 2,
       "version_minor": 0
      },
      "text/plain": [
       "HBox(children=(IntProgress(value=0, max=191), HTML(value='')))"
      ]
     },
     "metadata": {},
     "output_type": "display_data"
    },
    {
     "name": "stdout",
     "output_type": "stream",
     "text": [
      "\n"
     ]
    },
    {
     "data": {
      "application/vnd.jupyter.widget-view+json": {
       "model_id": "a9addb611e754169973454ecadad5e0b",
       "version_major": 2,
       "version_minor": 0
      },
      "text/plain": [
       "HBox(children=(IntProgress(value=0, max=412), HTML(value='')))"
      ]
     },
     "metadata": {},
     "output_type": "display_data"
    },
    {
     "name": "stdout",
     "output_type": "stream",
     "text": [
      "\n"
     ]
    },
    {
     "data": {
      "application/vnd.jupyter.widget-view+json": {
       "model_id": "7f7fde93ca154aac8c2d02e76baa5994",
       "version_major": 2,
       "version_minor": 0
      },
      "text/plain": [
       "HBox(children=(IntProgress(value=0, max=112), HTML(value='')))"
      ]
     },
     "metadata": {},
     "output_type": "display_data"
    },
    {
     "name": "stdout",
     "output_type": "stream",
     "text": [
      "\n"
     ]
    },
    {
     "data": {
      "application/vnd.jupyter.widget-view+json": {
       "model_id": "ea87d9f585be4883b642eaaaecfb7e9e",
       "version_major": 2,
       "version_minor": 0
      },
      "text/plain": [
       "HBox(children=(IntProgress(value=0, max=184), HTML(value='')))"
      ]
     },
     "metadata": {},
     "output_type": "display_data"
    },
    {
     "name": "stdout",
     "output_type": "stream",
     "text": [
      "\n"
     ]
    }
   ],
   "source": [
    "# Read from Twitter ID file\n",
    "tweet_summary_map = {}\n",
    "nameList = ['Anatomy of Hell','being julia', 'brokeback mountain','call me by your name','Carol','Christopher and his Kind',\n",
    "           'Fabulous! The Story of Queer Cinema','Fellini Satyricon','Fight Club','Henry & June','I Now Pronounce You Chuck and Larry',\n",
    "           'I Spit on Your Grave','Iron Jawed Angels',\"Jennifer's Body\",'Lawrence of Arabia','Merry Christmas, Mr. Lawrence',\n",
    "           \"Miller's Crossing\",'Mona Lisa Smile','My Beautiful Laundrette','My Own Private Idaho','Naked Vengeance',\"Naomi and Ely's No Kiss List\",\n",
    "           'Pink Narcissus','The Ballad of Josie','The Hunger Games- Mockingjay','The love witch','The Picture of Dorian Gray',\n",
    "           'The Wedding Banquet','Waiting for Guffman']\n",
    "for movie in nameList:\n",
    "    with open(\"Tweet Data/Tweepy-API-xPath/\"+movie+\".txt\", 'r') as f:\n",
    "        x = f.read().splitlines()\n",
    "    id_list = [line.split('/')[-1] for line in x]\n",
    "    tweet_summary = pd.DataFrame(columns=['Timezone', 'Full Tweet', 'user_name', 'user_location', 'coordinates', 'country_code', 'place'])\n",
    "    tweet_summary.index.name = 'Tweet Time'\n",
    "    for id in tqdm_notebook(id_list):\n",
    "        try:\n",
    "            tweet_info = api.get_status(id, lang = 'en', tweet_mode='extended')\n",
    "            if 'retweeted_status' in dir(tweet_info):\n",
    "                tweet=tweet_info.retweeted_status.full_text\n",
    "            else:\n",
    "                tweet=tweet_info.full_text\n",
    "            if tweet_info.place:\n",
    "                place = tweet_info.place.full_name\n",
    "                country_code = tweet_info.place.country_code\n",
    "            else:\n",
    "                place = None\n",
    "                country_code = None\n",
    "        except:\n",
    "            pass\n",
    "        tweet_summary.loc[tweet_info.created_at] = [tweet_info.user.time_zone, tweet, tweet_info.user.name, tweet_info.user.location, tweet_info.coordinates, country_code, place]\n",
    "    tweet_summary_map[movie] = tweet_summary\n",
    "    time.sleep(1)"
   ]
  },
  {
   "cell_type": "markdown",
   "metadata": {},
   "source": [
    "### Frequency of tweets by state\n",
    "Due to the limitation of small sample size I will perform 2 types of analysis. The first one will calculate frequency of tweets by state regardless of sentimental analysis of content. The other one will perform sentimental analysis on tweet content by state. "
   ]
  },
  {
   "cell_type": "code",
   "execution_count": 52,
   "metadata": {},
   "outputs": [],
   "source": [
    "# tweets with user locations\n",
    "counter = 0\n",
    "collect = []\n",
    "for movie in nameList:\n",
    "    counter += 1\n",
    "    name1 = \"m\"+str(counter)\n",
    "    name2 = \"m\"+str(counter)+\"_filtered\"\n",
    "    name1 = tweet_summary_map[movie]\n",
    "    name2 = name1[name1['user_location'].notnull()]\n",
    "    collect.append(name2)\n",
    "    \n",
    "twitter_loc = pd.concat(collect)\n",
    "# twitter_loc.to_csv(\"twitter_loc.csv\")\n"
   ]
  },
  {
   "cell_type": "code",
   "execution_count": 53,
   "metadata": {},
   "outputs": [],
   "source": [
    "# After hand-cleaning twitter_loc file, need to calculate number of tweets of each state\n",
    "twitter_state = pd.read_csv(\"twitter_loc_v3.csv\")\n"
   ]
  },
  {
   "cell_type": "code",
   "execution_count": 54,
   "metadata": {},
   "outputs": [],
   "source": [
    "# Number of tweet each state\n",
    "twitter_stateNum = twitter_state.groupby(['State']).size()\n"
   ]
  },
  {
   "cell_type": "code",
   "execution_count": 55,
   "metadata": {},
   "outputs": [],
   "source": [
    "# Output tweets by state file\n",
    "# twitter_stateNum.to_csv(\"twitter_stateNum.csv\")\n"
   ]
  },
  {
   "cell_type": "markdown",
   "metadata": {},
   "source": [
    "### Sentimental analysis of tweets by state"
   ]
  },
  {
   "cell_type": "code",
   "execution_count": 56,
   "metadata": {},
   "outputs": [],
   "source": [
    "# A function to calculate the polarity of selected movies\n",
    "def twitter_polarity(movie_name): \n",
    "    test1 = tweet_summary_map[movie_name][['Full Tweet','place']]\n",
    "    test1_filtered = test1[test1['place'].notnull()]\n",
    "    test1_filtered['State'] = test1_filtered['place'].apply(lambda state: state[-2:])\n",
    "    test1_filtered['polarity'] = test1_filtered['Full Tweet'].apply(lambda tweet:TextBlob(tweet).sentiment.polarity)\n",
    "    try:\n",
    "        test1_filtered = test1_filtered.groupby('State')[['polarity']].mean()\n",
    "        test1_filtered['movie'] = movie_name\n",
    "    except:\n",
    "        pass\n",
    "    return test1_filtered\n"
   ]
  },
  {
   "cell_type": "code",
   "execution_count": 57,
   "metadata": {},
   "outputs": [
    {
     "name": "stderr",
     "output_type": "stream",
     "text": [
      "/Users/amberwu/anaconda/lib/python3.6/site-packages/ipykernel_launcher.py:5: SettingWithCopyWarning: \n",
      "A value is trying to be set on a copy of a slice from a DataFrame.\n",
      "Try using .loc[row_indexer,col_indexer] = value instead\n",
      "\n",
      "See the caveats in the documentation: http://pandas.pydata.org/pandas-docs/stable/indexing.html#indexing-view-versus-copy\n",
      "  \"\"\"\n",
      "/Users/amberwu/anaconda/lib/python3.6/site-packages/ipykernel_launcher.py:6: SettingWithCopyWarning: \n",
      "A value is trying to be set on a copy of a slice from a DataFrame.\n",
      "Try using .loc[row_indexer,col_indexer] = value instead\n",
      "\n",
      "See the caveats in the documentation: http://pandas.pydata.org/pandas-docs/stable/indexing.html#indexing-view-versus-copy\n",
      "  \n"
     ]
    }
   ],
   "source": [
    "nameList = ['Anatomy of Hell','being julia', 'brokeback mountain','call me by your name','Carol','Christopher and his Kind',\n",
    "           'Fabulous! The Story of Queer Cinema','Fellini Satyricon','Fight Club','Henry & June','I Now Pronounce You Chuck and Larry',\n",
    "           'I Spit on Your Grave','Iron Jawed Angels',\"Jennifer's Body\",'Lawrence of Arabia','Merry Christmas, Mr. Lawrence',\n",
    "           \"Miller's Crossing\",'Mona Lisa Smile','My Beautiful Laundrette','My Own Private Idaho','Naked Vengeance',\"Naomi and Ely's No Kiss List\",\n",
    "           'Pink Narcissus','The Ballad of Josie','The Hunger Games- Mockingjay','The love witch','The Picture of Dorian Gray',\n",
    "           'The Wedding Banquet','Waiting for Guffman']\n",
    "collection = []\n",
    "for movie in nameList:\n",
    "    collection.append(twitter_polarity(movie))\n",
    "\n",
    "polarity_tweet = pd.concat(collection)[['movie','polarity']]"
   ]
  },
  {
   "cell_type": "code",
   "execution_count": 58,
   "metadata": {
    "scrolled": true
   },
   "outputs": [],
   "source": [
    "# reset index to preserve state information when merging\n",
    "polarity_tweet = polarity_tweet.reset_index()\n"
   ]
  },
  {
   "cell_type": "code",
   "execution_count": 59,
   "metadata": {},
   "outputs": [],
   "source": [
    "# convert all movie names in tweets' polarity table to lower case to prevent any matching issues when merging tables\n",
    "polarity_tweet['movie'] = polarity_tweet['movie'].apply(lambda x:x.lower())\n"
   ]
  },
  {
   "cell_type": "code",
   "execution_count": 60,
   "metadata": {
    "scrolled": true
   },
   "outputs": [
    {
     "name": "stderr",
     "output_type": "stream",
     "text": [
      "/Users/amberwu/anaconda/lib/python3.6/site-packages/ipykernel_launcher.py:2: SettingWithCopyWarning: \n",
      "A value is trying to be set on a copy of a slice from a DataFrame.\n",
      "Try using .loc[row_indexer,col_indexer] = value instead\n",
      "\n",
      "See the caveats in the documentation: http://pandas.pydata.org/pandas-docs/stable/indexing.html#indexing-view-versus-copy\n",
      "  \n"
     ]
    }
   ],
   "source": [
    "# convert all movie names in movie rating table to lower case to prevent any matching issues when merging tables\n",
    "sampleName['title'] = sampleName['title'].apply(lambda x:x.lower())\n"
   ]
  },
  {
   "cell_type": "code",
   "execution_count": 61,
   "metadata": {},
   "outputs": [],
   "source": [
    "# Merge two tables in order to compare polarity values and average movie ratings\n",
    "polarity_rating = polarity_tweet.merge(sampleName, left_on='movie', right_on='title')\n"
   ]
  },
  {
   "cell_type": "code",
   "execution_count": 62,
   "metadata": {},
   "outputs": [],
   "source": [
    "# select useful columns \n",
    "polarity_rating = polarity_rating[['index','movie','polarity','rating']]\n"
   ]
  },
  {
   "cell_type": "code",
   "execution_count": 63,
   "metadata": {},
   "outputs": [],
   "source": [
    "# calculate the difference between polarity values and average movie ratings\n",
    "polarity_rating['diff'] = polarity_rating['polarity'] - polarity_rating['rating']\n"
   ]
  },
  {
   "cell_type": "code",
   "execution_count": 64,
   "metadata": {},
   "outputs": [],
   "source": [
    "states = ['AK','AL','AR','AZ','CA','CO','CT','DC','DE','FL','GA','HI','IA','ID','IL','IN',\n",
    "          'KS','KY','LA','MA','MD','ME','MI','MN','MO','MS','MT','NC','ND','NE','NH','NJ',\n",
    "          'NM','NV','NY','OH','OK','OR','PA','RI','SC','SD','TN','TX','UT','VA','VT','WA',\n",
    "          'WI','WV','WY']"
   ]
  },
  {
   "cell_type": "code",
   "execution_count": 65,
   "metadata": {},
   "outputs": [],
   "source": [
    "# remove invalid rows (rows that are not for states in U.S)\n",
    "real_states = polarity_rating[polarity_rating['index'].str.contains('|'.join(states), na=False)]\n"
   ]
  },
  {
   "cell_type": "code",
   "execution_count": 66,
   "metadata": {},
   "outputs": [],
   "source": [
    "# calculated average difference between polarity values and average movie ratings by state\n",
    "diff_stats = real_states.groupby('index')[['diff']].mean()\n"
   ]
  },
  {
   "cell_type": "code",
   "execution_count": 67,
   "metadata": {},
   "outputs": [],
   "source": [
    "# Output files regarding difference between polarity values and average movie ratings by state\n",
    "# diff_stats.to_csv('diff_stats.csv')"
   ]
  },
  {
   "cell_type": "code",
   "execution_count": 68,
   "metadata": {},
   "outputs": [
    {
     "data": {
      "text/html": [
       "<div>\n",
       "<style scoped>\n",
       "    .dataframe tbody tr th:only-of-type {\n",
       "        vertical-align: middle;\n",
       "    }\n",
       "\n",
       "    .dataframe tbody tr th {\n",
       "        vertical-align: top;\n",
       "    }\n",
       "\n",
       "    .dataframe thead th {\n",
       "        text-align: right;\n",
       "    }\n",
       "</style>\n",
       "<table border=\"1\" class=\"dataframe\">\n",
       "  <thead>\n",
       "    <tr style=\"text-align: right;\">\n",
       "      <th></th>\n",
       "      <th>diff</th>\n",
       "    </tr>\n",
       "    <tr>\n",
       "      <th>index</th>\n",
       "      <th></th>\n",
       "    </tr>\n",
       "  </thead>\n",
       "  <tbody>\n",
       "    <tr>\n",
       "      <th>CA</th>\n",
       "      <td>-0.401202</td>\n",
       "    </tr>\n",
       "    <tr>\n",
       "      <th>CT</th>\n",
       "      <td>0.140000</td>\n",
       "    </tr>\n",
       "    <tr>\n",
       "      <th>IL</th>\n",
       "      <td>-0.655000</td>\n",
       "    </tr>\n",
       "    <tr>\n",
       "      <th>IN</th>\n",
       "      <td>-0.667421</td>\n",
       "    </tr>\n",
       "    <tr>\n",
       "      <th>LA</th>\n",
       "      <td>0.170000</td>\n",
       "    </tr>\n",
       "  </tbody>\n",
       "</table>\n",
       "</div>"
      ],
      "text/plain": [
       "           diff\n",
       "index          \n",
       "CA    -0.401202\n",
       "CT     0.140000\n",
       "IL    -0.655000\n",
       "IN    -0.667421\n",
       "LA     0.170000"
      ]
     },
     "execution_count": 68,
     "metadata": {},
     "output_type": "execute_result"
    }
   ],
   "source": [
    "# Final output sample\n",
    "diff_stats.head()"
   ]
  },
  {
   "cell_type": "code",
   "execution_count": null,
   "metadata": {},
   "outputs": [],
   "source": []
  }
 ],
 "metadata": {
  "kernelspec": {
   "display_name": "Python 3",
   "language": "python",
   "name": "python3"
  },
  "language_info": {
   "codemirror_mode": {
    "name": "ipython",
    "version": 3
   },
   "file_extension": ".py",
   "mimetype": "text/x-python",
   "name": "python",
   "nbconvert_exporter": "python",
   "pygments_lexer": "ipython3",
   "version": "3.6.6"
  },
  "toc": {
   "base_numbering": 1,
   "nav_menu": {},
   "number_sections": true,
   "sideBar": true,
   "skip_h1_title": false,
   "title_cell": "Table of Contents",
   "title_sidebar": "Contents",
   "toc_cell": true,
   "toc_position": {},
   "toc_section_display": true,
   "toc_window_display": false
  }
 },
 "nbformat": 4,
 "nbformat_minor": 2
}
